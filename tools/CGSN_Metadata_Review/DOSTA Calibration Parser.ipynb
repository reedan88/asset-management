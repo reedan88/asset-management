{
 "cells": [
  {
   "cell_type": "markdown",
   "metadata": {},
   "source": [
    "# DOSTA Calibration Parser\n",
    "\n",
    "This script and notebook gives the code for loading the CTD calibration coefficients into a properly named calibration csv, as well as an example of how to use it. The calibration coefficients can be parsed from either the vendor calibration (.cal) file, the vendor xmlcon file, or from the capture file (either .cap, .log, or .txt) from the QCT check-in.\n"
   ]
  },
  {
   "cell_type": "code",
   "execution_count": 1,
   "metadata": {},
   "outputs": [],
   "source": [
    "from utils import *"
   ]
  },
  {
   "cell_type": "code",
   "execution_count": 2,
   "metadata": {},
   "outputs": [],
   "source": [
    "import csv\n",
    "import datetime\n",
    "import os\n",
    "import shutil\n",
    "import sys\n",
    "import time\n",
    "import re\n",
    "import xml.etree.ElementTree as et\n",
    "import pandas as pd\n",
    "from zipfile import ZipFile"
   ]
  },
  {
   "cell_type": "markdown",
   "metadata": {},
   "source": [
    "========================================================================================================================\n",
    "### Define functions"
   ]
  },
  {
   "cell_type": "code",
   "execution_count": 3,
   "metadata": {},
   "outputs": [],
   "source": [
    "def get_calibration_files(serial_nums,dirpath):\n",
    "    \"\"\"\n",
    "    Function which gets all the calibration files associated with the\n",
    "    instrument serial numbers.\n",
    "    \n",
    "    Args:\n",
    "        serial_nums - serial numbers of the instruments\n",
    "        dirpath - path to the directory containing the calibration files\n",
    "    Returns:\n",
    "        calibration_files - a dictionary of instrument uids with associated\n",
    "            calibration files\n",
    "    \"\"\"\n",
    "    calibration_files = {}\n",
    "    for uid in serial_nums.keys():\n",
    "        sn = serial_nums.get(uid)[0]\n",
    "        sn = str(sn)\n",
    "        files = []\n",
    "        for file in os.listdir(dirpath):\n",
    "            if sn in file:\n",
    "                if 'Calibration' in file:\n",
    "                    files.append(file)\n",
    "                else:\n",
    "                    pass\n",
    "            else:\n",
    "                pass\n",
    "        \n",
    "        calibration_files.update({uid:files})\n",
    "        \n",
    "    return calibration_files"
   ]
  },
  {
   "cell_type": "code",
   "execution_count": 4,
   "metadata": {},
   "outputs": [],
   "source": [
    "def get_qct_files(df, qct_directory):\n",
    "    qct_dict = {}\n",
    "    uids = list(set(df['UID']))\n",
    "    for uid in uids:\n",
    "        df['UID_match'] = df['UID'].apply(lambda x: True if uid in x else False)\n",
    "        qct_series = df[df['UID_match'] == True]['QCT Testing']\n",
    "        qct_series = list(str(qct_series.iloc[0]).split('\\n'))\n",
    "        qct_dict.update({uid:qct_series})\n",
    "    return qct_dict"
   ]
  },
  {
   "cell_type": "code",
   "execution_count": 5,
   "metadata": {},
   "outputs": [],
   "source": [
    "# Now I need to load the all of the csv files based on their UID\n",
    "def load_csv_info(csv_dict,filepath):\n",
    "    \"\"\"\n",
    "    Loads the calibration coefficient information contained in asset management\n",
    "    \n",
    "    Args:\n",
    "        csv_dict - a dictionary which associates an instrument UID to the\n",
    "            calibration csv files in asset management\n",
    "        filepath - the path to the directory containing the calibration csv files\n",
    "    Returns:\n",
    "        csv_cals - a dictionary which associates an instrument UID to a pandas\n",
    "            dataframe which contains the calibration coefficients. The dataframes\n",
    "            are indexed by the date of calibration\n",
    "    \"\"\"\n",
    "    \n",
    "    # Load the calibration data into pandas dataframes, which are then placed into\n",
    "    # a dictionary by the UID\n",
    "    csv_cals = {}\n",
    "    for uid in csv_dict:\n",
    "        cals = pd.DataFrame()\n",
    "        for file in csv_dict[uid]:\n",
    "            data = pd.read_csv(filepath+file)\n",
    "            date = file.split('__')[1].split('.')[0]\n",
    "            data['CAL DATE'] = pd.to_datetime(date)\n",
    "            cals = cals.append(data)\n",
    "        csv_cals.update({uid:cals})\n",
    "        \n",
    "    # Pivot the dataframe to be sorted based on calibration date\n",
    "    for uid in csv_cals:\n",
    "        csv_cals[uid] = csv_cals[uid].pivot(index=csv_cals[uid]['CAL DATE'], columns='name')['value']\n",
    "        \n",
    "    return csv_cals"
   ]
  },
  {
   "cell_type": "code",
   "execution_count": 6,
   "metadata": {},
   "outputs": [],
   "source": [
    "def splitDataFrameList(df,target_column):\n",
    "    ''' \n",
    "    df = dataframe to split,\n",
    "    target_column = the column containing the values to split\n",
    "    separator = the symbol used to perform the split\n",
    "    returns: a dataframe with each entry for the target column separated, with each element moved into a new row. \n",
    "    The values in the other columns are duplicated across the newly divided rows.\n",
    "    '''\n",
    "    \n",
    "    def splitListToRows(row,row_accumulator,target_column):\n",
    "        split_row = row[target_column]\n",
    "        for s in split_row:\n",
    "            new_row = row.to_dict()\n",
    "            new_row[target_column] = s\n",
    "            row_accumulator.append(new_row)\n",
    "            \n",
    "    new_rows = []\n",
    "    df.apply(splitListToRows,axis=1,args = (new_rows,target_column))\n",
    "    new_df = pd.DataFrame(new_rows)\n",
    "    return new_df"
   ]
  },
  {
   "cell_type": "markdown",
   "metadata": {},
   "source": [
    "========================================================================================================================\n",
    "### Directories\n",
    "**Define the main directories where important information is stored.**"
   ]
  },
  {
   "cell_type": "code",
   "execution_count": 29,
   "metadata": {},
   "outputs": [],
   "source": [
    "qct_directory = '/media/andrew/OS/Users/areed/Documents/Project_Files/Records/Instrument_Records/PRESF/PRESF_Results'\n",
    "cal_directory = '/media/andrew/OS/Users/areed/Documents/Project_Files/Records/Instrument_Records/PRESF/PRESF_Cal'\n",
    "asset_management_directory = '/home/andrew/Documents/OOI-CGSN/ooi-integration/asset-management/calibration/PRESFB'"
   ]
  },
  {
   "cell_type": "code",
   "execution_count": 18,
   "metadata": {},
   "outputs": [],
   "source": [
    "excel_spreadsheet = '/media/andrew/OS/Users/areed/Documents/Project_Files/Documentation/System/System Notebook/WHOI_Asset_Tracking.xlsx'\n",
    "sheet_name = 'Sensors'"
   ]
  },
  {
   "cell_type": "code",
   "execution_count": 37,
   "metadata": {},
   "outputs": [
    {
     "data": {
      "text/html": [
       "<div>\n",
       "<style scoped>\n",
       "    .dataframe tbody tr th:only-of-type {\n",
       "        vertical-align: middle;\n",
       "    }\n",
       "\n",
       "    .dataframe tbody tr th {\n",
       "        vertical-align: top;\n",
       "    }\n",
       "\n",
       "    .dataframe thead th {\n",
       "        text-align: right;\n",
       "    }\n",
       "</style>\n",
       "<table border=\"1\" class=\"dataframe\">\n",
       "  <thead>\n",
       "    <tr style=\"text-align: right;\">\n",
       "      <th></th>\n",
       "      <th>Instrument\n",
       "Class</th>\n",
       "      <th>Series</th>\n",
       "      <th>Supplier\n",
       "Serial Number</th>\n",
       "      <th>WHOI #</th>\n",
       "      <th>OOI #</th>\n",
       "      <th>UID</th>\n",
       "      <th>Model</th>\n",
       "      <th>CGSN PN</th>\n",
       "      <th>Firmware Version</th>\n",
       "      <th>Supplier</th>\n",
       "      <th>...</th>\n",
       "      <th>QCT Testing</th>\n",
       "      <th>PreDeployment</th>\n",
       "      <th>Post Deployment</th>\n",
       "      <th>Refurbishment/ Repair</th>\n",
       "      <th>DO Number</th>\n",
       "      <th>Date Received</th>\n",
       "      <th>Deployment History</th>\n",
       "      <th>Current Deployment</th>\n",
       "      <th>Instrument Location on Current Deployment</th>\n",
       "      <th>Notes</th>\n",
       "    </tr>\n",
       "  </thead>\n",
       "  <tbody>\n",
       "    <tr>\n",
       "      <th>1057</th>\n",
       "      <td>PRESF</td>\n",
       "      <td>B</td>\n",
       "      <td>26-1392</td>\n",
       "      <td>116898</td>\n",
       "      <td>A01141</td>\n",
       "      <td>CGINS-PRESFB-01392</td>\n",
       "      <td>26Plus</td>\n",
       "      <td>3305-00012-00002</td>\n",
       "      <td>7.2</td>\n",
       "      <td>SeaBird</td>\n",
       "      <td>...</td>\n",
       "      <td>3305-00105-00018\\n3305-00105-00045\\n3305-00105...</td>\n",
       "      <td>NaN</td>\n",
       "      <td>NaN</td>\n",
       "      <td>3305-00900-00178\\n3305-00900-00361</td>\n",
       "      <td>WHOI_11-09-2011-PRESF-1003</td>\n",
       "      <td>10/30/2014\\n4/3/2015</td>\n",
       "      <td>CP01CNSM-00005\\nCP8 Spare\\nCP01CNSM-00008\\nCP0...</td>\n",
       "      <td>NaN</td>\n",
       "      <td>MFN</td>\n",
       "      <td>NaN</td>\n",
       "    </tr>\n",
       "    <tr>\n",
       "      <th>1058</th>\n",
       "      <td>PRESF</td>\n",
       "      <td>C</td>\n",
       "      <td>26-1400</td>\n",
       "      <td>116909</td>\n",
       "      <td>A01187</td>\n",
       "      <td>CGINS-PRESFC-01400</td>\n",
       "      <td>26Plus</td>\n",
       "      <td>3305-00012-00003</td>\n",
       "      <td>7.2</td>\n",
       "      <td>SeaBird</td>\n",
       "      <td>...</td>\n",
       "      <td>3305-00105-00019\\n3305-00105-00028\\n3305-00108...</td>\n",
       "      <td>NaN</td>\n",
       "      <td>NaN</td>\n",
       "      <td>3305-00900-00085</td>\n",
       "      <td>WHOI_11-09-2011-PRESF-1003</td>\n",
       "      <td>2014-12-12 00:00:00</td>\n",
       "      <td>CP04OSSM-00002\\nCP04OSSM-00005\\nCP04OSSM-00008</td>\n",
       "      <td>Pioneer 12 spare</td>\n",
       "      <td>NaN</td>\n",
       "      <td>NaN</td>\n",
       "    </tr>\n",
       "    <tr>\n",
       "      <th>1059</th>\n",
       "      <td>PRESF</td>\n",
       "      <td>C</td>\n",
       "      <td>26-1401</td>\n",
       "      <td>116910</td>\n",
       "      <td>A01188</td>\n",
       "      <td>CGINS-PRESFC-01401</td>\n",
       "      <td>26Plus</td>\n",
       "      <td>3305-00012-00003</td>\n",
       "      <td>7.2</td>\n",
       "      <td>SeaBird</td>\n",
       "      <td>...</td>\n",
       "      <td>3305-00105-00020\\n3305-00105-00037\\n3305-00105...</td>\n",
       "      <td>NaN</td>\n",
       "      <td>NaN</td>\n",
       "      <td>3305-00900-00135\\n3305-00900-00309</td>\n",
       "      <td>WHOI_11-09-2011-PRESF-1003</td>\n",
       "      <td>2014-12-12 00:00:00</td>\n",
       "      <td>CP4 Spare\\nCP04OSSM-00003\\nCP04OSSM-00006\\nP10...</td>\n",
       "      <td>CP04OSSM-00010</td>\n",
       "      <td>MFN</td>\n",
       "      <td>NaN</td>\n",
       "    </tr>\n",
       "    <tr>\n",
       "      <th>1061</th>\n",
       "      <td>PRESF</td>\n",
       "      <td>B</td>\n",
       "      <td>26P64515-1329</td>\n",
       "      <td>114940</td>\n",
       "      <td>A00051</td>\n",
       "      <td>CGINS-PRESFB-01329</td>\n",
       "      <td>26Plus</td>\n",
       "      <td>3305-00012-00002</td>\n",
       "      <td>6.1e</td>\n",
       "      <td>SeaBird</td>\n",
       "      <td>...</td>\n",
       "      <td>3305-00105-00002\\n3305-00105-00027\\n3305-00105...</td>\n",
       "      <td>NaN</td>\n",
       "      <td>NaN</td>\n",
       "      <td>3305-00900-00085\\n3305-00900-00178\\n3305-00900...</td>\n",
       "      <td>WH-DO-1</td>\n",
       "      <td>2012-04-09 00:00:00</td>\n",
       "      <td>CP1 Spare\\nCP3a Spare\\nCP03ISSM-00002\\nCP03ISS...</td>\n",
       "      <td>NaN</td>\n",
       "      <td>MFN</td>\n",
       "      <td>NaN</td>\n",
       "    </tr>\n",
       "    <tr>\n",
       "      <th>1062</th>\n",
       "      <td>PRESF</td>\n",
       "      <td>B</td>\n",
       "      <td>26P71826-1352</td>\n",
       "      <td>115275</td>\n",
       "      <td>A00165</td>\n",
       "      <td>CGINS-PRESFB-01352</td>\n",
       "      <td>26Plus</td>\n",
       "      <td>3305-00012-00002</td>\n",
       "      <td>7.2</td>\n",
       "      <td>SeaBird</td>\n",
       "      <td>...</td>\n",
       "      <td>3305-00105-00003\\n3305-00105-00038\\n3305-00105...</td>\n",
       "      <td>NaN</td>\n",
       "      <td>NaN</td>\n",
       "      <td>3305-00900-00013\\n3305-00900-00135\\n3305-00900...</td>\n",
       "      <td>WHOI_Contract_11-09-2011-PRESF-1001</td>\n",
       "      <td>2813-01-01 00:00:00</td>\n",
       "      <td>CP01CNSM-00001\\nCP4 Spare\\nCP03ISSM-00003\\nCP0...</td>\n",
       "      <td>CP01CNSM-00011</td>\n",
       "      <td>MFN</td>\n",
       "      <td>NaN</td>\n",
       "    </tr>\n",
       "    <tr>\n",
       "      <th>1063</th>\n",
       "      <td>PRESF</td>\n",
       "      <td>B</td>\n",
       "      <td>26P76848-1386</td>\n",
       "      <td>116453</td>\n",
       "      <td>A00813</td>\n",
       "      <td>CGINS-PRESFB-01386</td>\n",
       "      <td>26Plus</td>\n",
       "      <td>3305-00012-00002</td>\n",
       "      <td>7.2</td>\n",
       "      <td>SeaBird</td>\n",
       "      <td>...</td>\n",
       "      <td>3305-00105-00010\\n3305-00105-00025\\n3305-00105...</td>\n",
       "      <td>NaN</td>\n",
       "      <td>NaN</td>\n",
       "      <td>3305-00900-00085\\n3305-00900-00178\\n3305-00900...</td>\n",
       "      <td>WHOI_Contract_11-09-2011-PRESF-1002</td>\n",
       "      <td>2014-04-11 00:00:00</td>\n",
       "      <td>CP01CNSM-00002\\nCP01CNSM-00003\\nCP04OSSM-00004...</td>\n",
       "      <td>CP03ISSM-00010</td>\n",
       "      <td>MFN</td>\n",
       "      <td>NaN</td>\n",
       "    </tr>\n",
       "    <tr>\n",
       "      <th>1064</th>\n",
       "      <td>PRESF</td>\n",
       "      <td>B</td>\n",
       "      <td>26P76848-1387</td>\n",
       "      <td>116337</td>\n",
       "      <td>A00761</td>\n",
       "      <td>CGINS-PRESFB-01387</td>\n",
       "      <td>26Plus</td>\n",
       "      <td>3305-00012-00002</td>\n",
       "      <td>7.2</td>\n",
       "      <td>SeaBird</td>\n",
       "      <td>...</td>\n",
       "      <td>3305-00105-00011\\n3305-00105-00026\\n3305-00105...</td>\n",
       "      <td>NaN</td>\n",
       "      <td>NaN</td>\n",
       "      <td>3305-00900-00085</td>\n",
       "      <td>WHOI_Contract_11-09-2011-PRESF-1002</td>\n",
       "      <td>2014-04-11 00:00:00</td>\n",
       "      <td>CP03ISSM-00001\\nCP01CNSM-00006\\nCP03ISSM-00008</td>\n",
       "      <td>Pioneer 12 spare</td>\n",
       "      <td>NaN</td>\n",
       "      <td>NaN</td>\n",
       "    </tr>\n",
       "    <tr>\n",
       "      <th>1065</th>\n",
       "      <td>PRESF</td>\n",
       "      <td>C</td>\n",
       "      <td>26P76848-1388</td>\n",
       "      <td>116338</td>\n",
       "      <td>A00762</td>\n",
       "      <td>CGINS-PRESFC-01388</td>\n",
       "      <td>26Plus</td>\n",
       "      <td>3305-00012-00003</td>\n",
       "      <td>7.2</td>\n",
       "      <td>SeaBird</td>\n",
       "      <td>...</td>\n",
       "      <td>3305-00105-00012\\n3305-00105-00024\\n3305-00105...</td>\n",
       "      <td>NaN</td>\n",
       "      <td>NaN</td>\n",
       "      <td>3305-00900-00035\\n3305-00900-00364</td>\n",
       "      <td>WHOI_Contract_11-09-2011-PRESF-1002</td>\n",
       "      <td>2014-04-11 00:00:00</td>\n",
       "      <td>CP04OSSM-00001\\nCP8 Spare\\nCP04OSSM-00007\\nCP0...</td>\n",
       "      <td>NaN</td>\n",
       "      <td>MFN</td>\n",
       "      <td>NaN</td>\n",
       "    </tr>\n",
       "  </tbody>\n",
       "</table>\n",
       "<p>8 rows × 25 columns</p>\n",
       "</div>"
      ],
      "text/plain": [
       "     Instrument\\nClass Series Supplier\\nSerial Number  WHOI #   OOI #  \\\n",
       "1057             PRESF      B                 26-1392  116898  A01141   \n",
       "1058             PRESF      C                 26-1400  116909  A01187   \n",
       "1059             PRESF      C                 26-1401  116910  A01188   \n",
       "1061             PRESF      B           26P64515-1329  114940  A00051   \n",
       "1062             PRESF      B           26P71826-1352  115275  A00165   \n",
       "1063             PRESF      B          26P76848-1386   116453  A00813   \n",
       "1064             PRESF      B           26P76848-1387  116337  A00761   \n",
       "1065             PRESF      C           26P76848-1388  116338  A00762   \n",
       "\n",
       "                     UID   Model           CGSN PN Firmware Version Supplier  \\\n",
       "1057  CGINS-PRESFB-01392  26Plus  3305-00012-00002              7.2  SeaBird   \n",
       "1058  CGINS-PRESFC-01400  26Plus  3305-00012-00003              7.2  SeaBird   \n",
       "1059  CGINS-PRESFC-01401  26Plus  3305-00012-00003              7.2  SeaBird   \n",
       "1061  CGINS-PRESFB-01329  26Plus  3305-00012-00002             6.1e  SeaBird   \n",
       "1062  CGINS-PRESFB-01352  26Plus  3305-00012-00002              7.2  SeaBird   \n",
       "1063  CGINS-PRESFB-01386  26Plus  3305-00012-00002              7.2  SeaBird   \n",
       "1064  CGINS-PRESFB-01387  26Plus  3305-00012-00002              7.2  SeaBird   \n",
       "1065  CGINS-PRESFC-01388  26Plus  3305-00012-00003              7.2  SeaBird   \n",
       "\n",
       "      ...                                        QCT Testing PreDeployment  \\\n",
       "1057  ...  3305-00105-00018\\n3305-00105-00045\\n3305-00105...           NaN   \n",
       "1058  ...  3305-00105-00019\\n3305-00105-00028\\n3305-00108...           NaN   \n",
       "1059  ...  3305-00105-00020\\n3305-00105-00037\\n3305-00105...           NaN   \n",
       "1061  ...  3305-00105-00002\\n3305-00105-00027\\n3305-00105...           NaN   \n",
       "1062  ...  3305-00105-00003\\n3305-00105-00038\\n3305-00105...           NaN   \n",
       "1063  ...  3305-00105-00010\\n3305-00105-00025\\n3305-00105...           NaN   \n",
       "1064  ...  3305-00105-00011\\n3305-00105-00026\\n3305-00105...           NaN   \n",
       "1065  ...  3305-00105-00012\\n3305-00105-00024\\n3305-00105...           NaN   \n",
       "\n",
       "     Post Deployment                              Refurbishment/ Repair  \\\n",
       "1057             NaN                 3305-00900-00178\\n3305-00900-00361   \n",
       "1058             NaN                                   3305-00900-00085   \n",
       "1059             NaN                 3305-00900-00135\\n3305-00900-00309   \n",
       "1061             NaN  3305-00900-00085\\n3305-00900-00178\\n3305-00900...   \n",
       "1062             NaN  3305-00900-00013\\n3305-00900-00135\\n3305-00900...   \n",
       "1063             NaN  3305-00900-00085\\n3305-00900-00178\\n3305-00900...   \n",
       "1064             NaN                                   3305-00900-00085   \n",
       "1065             NaN                 3305-00900-00035\\n3305-00900-00364   \n",
       "\n",
       "                                DO Number         Date Received  \\\n",
       "1057           WHOI_11-09-2011-PRESF-1003  10/30/2014\\n4/3/2015   \n",
       "1058           WHOI_11-09-2011-PRESF-1003   2014-12-12 00:00:00   \n",
       "1059           WHOI_11-09-2011-PRESF-1003   2014-12-12 00:00:00   \n",
       "1061                              WH-DO-1   2012-04-09 00:00:00   \n",
       "1062  WHOI_Contract_11-09-2011-PRESF-1001   2813-01-01 00:00:00   \n",
       "1063  WHOI_Contract_11-09-2011-PRESF-1002   2014-04-11 00:00:00   \n",
       "1064  WHOI_Contract_11-09-2011-PRESF-1002   2014-04-11 00:00:00   \n",
       "1065  WHOI_Contract_11-09-2011-PRESF-1002   2014-04-11 00:00:00   \n",
       "\n",
       "                                     Deployment History Current Deployment  \\\n",
       "1057  CP01CNSM-00005\\nCP8 Spare\\nCP01CNSM-00008\\nCP0...                NaN   \n",
       "1058     CP04OSSM-00002\\nCP04OSSM-00005\\nCP04OSSM-00008   Pioneer 12 spare   \n",
       "1059  CP4 Spare\\nCP04OSSM-00003\\nCP04OSSM-00006\\nP10...     CP04OSSM-00010   \n",
       "1061  CP1 Spare\\nCP3a Spare\\nCP03ISSM-00002\\nCP03ISS...                NaN   \n",
       "1062  CP01CNSM-00001\\nCP4 Spare\\nCP03ISSM-00003\\nCP0...     CP01CNSM-00011   \n",
       "1063  CP01CNSM-00002\\nCP01CNSM-00003\\nCP04OSSM-00004...     CP03ISSM-00010   \n",
       "1064     CP03ISSM-00001\\nCP01CNSM-00006\\nCP03ISSM-00008   Pioneer 12 spare   \n",
       "1065  CP04OSSM-00001\\nCP8 Spare\\nCP04OSSM-00007\\nCP0...                NaN   \n",
       "\n",
       "     Instrument Location on Current Deployment Notes  \n",
       "1057                                       MFN   NaN  \n",
       "1058                                       NaN   NaN  \n",
       "1059                                       MFN   NaN  \n",
       "1061                                       MFN   NaN  \n",
       "1062                                       MFN   NaN  \n",
       "1063                                       MFN   NaN  \n",
       "1064                                       NaN   NaN  \n",
       "1065                                       MFN   NaN  \n",
       "\n",
       "[8 rows x 25 columns]"
      ]
     },
     "execution_count": 37,
     "metadata": {},
     "output_type": "execute_result"
    }
   ],
   "source": [
    "PRESF = whoi_asset_tracking(excel_spreadsheet,sheet_name,instrument_class='PRESF',whoi=True)\n",
    "PRESF"
   ]
  },
  {
   "cell_type": "markdown",
   "metadata": {},
   "source": [
    "**Identify the QCT Testing documents associated with each individual instrument (the UID)**"
   ]
  },
  {
   "cell_type": "code",
   "execution_count": 34,
   "metadata": {},
   "outputs": [
    {
     "data": {
      "text/plain": [
       "{'CGINS-PRESFB-01387': ['3305-00105-00011',\n",
       "  '3305-00105-00026',\n",
       "  '3305-00105-00046'],\n",
       " 'CGINS-PRESFB-01329': ['3305-00105-00002',\n",
       "  '3305-00105-00027',\n",
       "  '3305-00105-00043',\n",
       "  '3305-00105-00054'],\n",
       " 'CGINS-PRESFC-01401': ['3305-00105-00020',\n",
       "  '3305-00105-00037',\n",
       "  '3305-00105-00055'],\n",
       " 'CGINS-PRESFB-01392': ['3305-00105-00018',\n",
       "  '3305-00105-00045',\n",
       "  '3305-00105-00066'],\n",
       " 'CGINS-PRESFC-01400': ['3305-00105-00019',\n",
       "  '3305-00105-00028',\n",
       "  '3305-00108-00048'],\n",
       " 'CGINS-PRESFB-01386': ['3305-00105-00010',\n",
       "  '3305-00105-00025',\n",
       "  '3305-00105-00044',\n",
       "  '3305-00105-00056'],\n",
       " 'CGINS-PRESFA-01328': ['3305-00105-00001'],\n",
       " 'CGINS-PRESFC-01388': ['3305-00105-00012',\n",
       "  '3305-00105-00024',\n",
       "  '3305-00105-00067'],\n",
       " 'CGINS-PRESFB-01352': ['3305-00105-00003',\n",
       "  '3305-00105-00038',\n",
       "  '3305-00105-00047',\n",
       "  '3305-00105-00065']}"
      ]
     },
     "execution_count": 34,
     "metadata": {},
     "output_type": "execute_result"
    }
   ],
   "source": [
    "qct_dict = get_qct_files(PRESF, qct_directory)\n",
    "qct_dict"
   ]
  },
  {
   "cell_type": "markdown",
   "metadata": {},
   "source": [
    "**Identify the calibration csvs stored in asset management which correspond to a particular instrument.**"
   ]
  },
  {
   "cell_type": "code",
   "execution_count": 31,
   "metadata": {},
   "outputs": [
    {
     "data": {
      "text/plain": [
       "{'CGINS-PRESFB-01329': ['CGINS-PRESFB-01329__20150509.csv',\n",
       "  'CGINS-PRESFB-01329__20170323.csv',\n",
       "  'CGINS-PRESFB-01329__20171217.csv',\n",
       "  'CGINS-PRESFB-01329__20160528.csv'],\n",
       " 'CGINS-PRESFB-01352': ['CGINS-PRESFB-01352__20180620.csv',\n",
       "  'CGINS-PRESFB-01352__20131121.csv',\n",
       "  'CGINS-PRESFB-01352__20170811.csv',\n",
       "  'CGINS-PRESFB-01352__20151021.csv',\n",
       "  'CGINS-PRESFB-01352__20161011.csv'],\n",
       " 'CGINS-PRESFB-01386': ['CGINS-PRESFB-01386__20160527.csv',\n",
       "  'CGINS-PRESFB-01386__20170323.csv',\n",
       "  'CGINS-PRESFB-01386__20141213.csv',\n",
       "  'CGINS-PRESFB-01386__20171217.csv',\n",
       "  'CGINS-PRESFB-01386__20150507.csv'],\n",
       " 'CGINS-PRESFB-01387': ['CGINS-PRESFB-01387__20170725.csv',\n",
       "  'CGINS-PRESFB-01387__20141214.csv'],\n",
       " 'CGINS-PRESFB-01392': ['CGINS-PRESFB-01392__20160513.csv',\n",
       "  'CGINS-PRESFB-01392__20180604.csv',\n",
       "  'CGINS-PRESFB-01392__20170104.csv']}"
      ]
     },
     "execution_count": 31,
     "metadata": {},
     "output_type": "execute_result"
    }
   ],
   "source": [
    "csv_dict = load_asset_management(PRESF, asset_management_directory)\n",
    "csv_dict"
   ]
  },
  {
   "cell_type": "code",
   "execution_count": 35,
   "metadata": {},
   "outputs": [
    {
     "name": "stdout",
     "output_type": "stream",
     "text": [
      "CGINS-PRESFB-01329__20150509.csv\n",
      "CGINS-PRESFB-01329__20160528.csv\n",
      "CGINS-PRESFB-01329__20170323.csv\n",
      "CGINS-PRESFB-01329__20171217.csv\n",
      "CGINS-PRESFB-01352__20131121.csv\n",
      "CGINS-PRESFB-01352__20151021.csv\n",
      "CGINS-PRESFB-01352__20161011.csv\n",
      "CGINS-PRESFB-01352__20170811.csv\n",
      "CGINS-PRESFB-01352__20180620.csv\n",
      "CGINS-PRESFB-01386__20141213.csv\n",
      "CGINS-PRESFB-01386__20150507.csv\n",
      "CGINS-PRESFB-01386__20160527.csv\n",
      "CGINS-PRESFB-01386__20170323.csv\n",
      "CGINS-PRESFB-01386__20171217.csv\n",
      "CGINS-PRESFB-01387__20141214.csv\n",
      "CGINS-PRESFB-01387__20170725.csv\n",
      "CGINS-PRESFB-01392__20160513.csv\n",
      "CGINS-PRESFB-01392__20170104.csv\n",
      "CGINS-PRESFB-01392__20180604.csv\n"
     ]
    }
   ],
   "source": [
    "for uid in csv_dict.keys():\n",
    "    for file in sorted(csv_dict[uid]):\n",
    "        print(file)"
   ]
  },
  {
   "cell_type": "code",
   "execution_count": 13,
   "metadata": {},
   "outputs": [],
   "source": [
    "uids = sorted(list(csv_dict.keys()))"
   ]
  },
  {
   "cell_type": "code",
   "execution_count": 14,
   "metadata": {},
   "outputs": [],
   "source": [
    "serial_nums = get_serial_nums(DOSTA, uids)\n"
   ]
  },
  {
   "cell_type": "code",
   "execution_count": 15,
   "metadata": {},
   "outputs": [
    {
     "data": {
      "text/plain": [
       "{'CGINS-DOSTAD-00126': ['DOSTA_Optode-4831_SN_126_Calibration_Certificate_2016-03-11.pdf',\n",
       "  'DOSTA_Optode-4831_SN_126_Calibration_Certificate_2017-08-19.pdf',\n",
       "  'DOSTA_Optode-4831_SN_126_Multipoint_Calibration_2013-02-27.pdf',\n",
       "  'DOSTA_Optode-4831_SN_126_Multipoint_Calibration_2018-03-09.pdf'],\n",
       " 'CGINS-DOSTAD-00127': ['DOSTA_Optode-4831_SN_127_Calibration_Certificate_2018-09-20.pdf',\n",
       "  'DOSTA_Optode-4831_SN_127_Multipoint_Calibration_2013-03-04.pdf',\n",
       "  'DOSTA_Optode-4831_SN_127_Multipoint_Calibration_2016-02-01.pdf'],\n",
       " 'CGINS-DOSTAD-00128': ['DOSTA_Optode-4831_SN_128_Calibration_Certificate_2017-09-11.pdf',\n",
       "  'DOSTA_Optode-4831_SN_128_Multipoint_Calibration_2013-03-04.pdf',\n",
       "  'DOSTA_Optode-4831_SN_128_Multipoint_Calibration_2016-02-01.pdf'],\n",
       " 'CGINS-DOSTAD-00129': ['DOSTA_Optode-4831_SN_129_Calibration_Certificate_2018-09-20.pdf',\n",
       "  'DOSTA_Optode-4831_SN_129_Multipoint_Calibration_2013-02-27.pdf',\n",
       "  'DOSTA_Optode-4831_SN_129_Multipoint_Calibration_2016-02-01.pdf'],\n",
       " 'CGINS-DOSTAD-00130': ['DOSTA_Optode-4831_SN_130_Calibration_Certificate_2017-09-11.pdf',\n",
       "  'DOSTA_Optode-4831_SN_130_Multipoint_Calibration_2013-02-27.pdf',\n",
       "  'DOSTA_Optode-4831_SN_130_Multipoint_Calibration_2016-02-22.pdf'],\n",
       " 'CGINS-DOSTAD-00131': ['DOSTA_Optode-4831_SN_131_Calibration_Certificate_2018-05-24.pdf',\n",
       "  'DOSTA_Optode-4831_SN_131_Calibration_Sheets_2015-05-11.pdf',\n",
       "  'DOSTA_Optode-4831_SN_131_Multipoint_Calibration_2013-02-27.pdf'],\n",
       " 'CGINS-DOSTAD-00132': ['DOSTA_Optode-4831_SN_132_Calibration_Sheets_2015-05-11.pdf',\n",
       "  'DOSTA_Optode-4831_SN_132_Multipoint_Calibration_2013-02-27.pdf'],\n",
       " 'CGINS-DOSTAD-00211': ['DOSTA_Optode-4831_SN_211_Multipoint_Calibration_2016-02-01.pdf',\n",
       "  'DOSTA_Optode-4831_SN_211_Multipoint_Calibration_2013-09-18.pdf',\n",
       "  'DOSTA_Optode-4831_SN_211_Calibration_Certificate_2017-09-18.pdf'],\n",
       " 'CGINS-DOSTAD-00212': ['DOSTA_Optode-4831_SN_212_Calibration_Certificate_2016-03-11.pdf',\n",
       "  'DOSTA_Optode-4831_SN_212_Calibration_Certificate_2017-09-18.pdf',\n",
       "  'DOSTA_Optode-4831_SN_212_Multipoint_Calibration_2013-09-18.pdf'],\n",
       " 'CGINS-DOSTAD-00224': ['DOSTA_Optode-4831_SN_224_Calibration_Certificate_2017-09-18.pdf',\n",
       "  'DOSTA_Optode-4831_SN_224_Multipoint_Calibration_2013-09-18.pdf',\n",
       "  'DOSTA_Optode-4831_SN_224_Multipoint_Calibration_2016-02-01.pdf'],\n",
       " 'CGINS-DOSTAD-00225': ['DOSTA_Optode-4831_SN_225_Calibration_Certificate_2017-12-04.pdf',\n",
       "  'DOSTA_Optode-4831_SN_225_Multipoint_Calibration_2013-09-18.pdf',\n",
       "  'DOSTA_Optode-4831_SN_225_Multipoint_Calibration_2016-02-22.pdf'],\n",
       " 'CGINS-DOSTAD-00226': ['DOSTA_Optode-4831_SN_226_Calibration_Certificate_2016-03-07.pdf',\n",
       "  'DOSTA_Optode-4831_SN_226_Calibration_Certificate_2016-06-01.pdf',\n",
       "  'DOSTA_Optode-4831_SN_226_Calibration_Certificate_2018-05-24.pdf',\n",
       "  'DOSTA_Optode-4831_SN_226_Multipoint_Calibration_2013-09-18.pdf'],\n",
       " 'CGINS-DOSTAD-00227': ['DOSTA_Optode-4831_SN_227_Calibration_Certificate_2017-03-17.pdf',\n",
       "  'DOSTA_Optode-4831_SN_227_Mulitpoint_Calibration_2013-09-18.pdf'],\n",
       " 'CGINS-DOSTAD-00228': ['DOSTA_Optode-4831_SN_228_Calibration_Certificate_2016-03-11.pdf',\n",
       "  'DOSTA_Optode-4831_SN_228_Calibration_Certificate_2017-09-18.pdf',\n",
       "  'DOSTA_Optode-4831_SN_228_Mulitpoint_Calibration_2013-09-18.pdf'],\n",
       " 'CGINS-DOSTAD-00375': ['DOSTA_Optode-4831_SN_375_Calibration_Certificate_2018-04-11.pdf',\n",
       "  'DOSTA_Optode-4831_SN_375_Multipoint_Calibration_2014-06-28.pdf',\n",
       "  'DOSTA_Optode-4831_SN_375_Multipoint_Calibration_2016-02-01.pdf'],\n",
       " 'CGINS-DOSTAD-00376': ['DOSTA_Optode-4831_SN_376_Multipoint_Calibration_2014-06-28.pdf',\n",
       "  'DOSTA_Optode-4831_SN_376_Calibration_Certificate_2018-04-11.pdf',\n",
       "  'DOSTA_Optode-4831_SN_376_Multipoint_Calibration_2016-02-01.pdf'],\n",
       " 'CGINS-DOSTAD-00377': ['DOSTA_Optode-4831_SN_377_Calibration_Certificate_2017-03-17.pdf',\n",
       "  'DOSTA_Optode-4831_SN_377_Calibration_Certificate_2018-05-22.pdf',\n",
       "  'DOSTA_Optode-4831_SN_377_Multipoint_Calibration_2014-06-28.pdf'],\n",
       " 'CGINS-DOSTAD-00378': ['DOSTA_Optode-4831_SN_378_Multipoint_Calibration_2014-06-28.pdf',\n",
       "  'DOSTA_Optode-4831_SN_378_Calibration_Certificate_2017-02-20.pdf',\n",
       "  'DOSTA_Optode-4831_SN_378_Calibration_Certificate_2017-12-13.pdf'],\n",
       " 'CGINS-DOSTAD-00379': ['DOSTA_Optode-4831_SN_379_Calibration_Certificate_2016-03-29.pdf',\n",
       "  'DOSTA_Optode-4831_SN_379_Calibration_Certificate_2018-04-11.pdf',\n",
       "  'DOSTA_Optode-4831_SN_379_Multipoint_Calibration_2014-06-28.pdf'],\n",
       " 'CGINS-DOSTAD-00382': ['DOSTA_Optode-4831_SN_382_Calibration_Certificate_2016-03-29.pdf',\n",
       "  'DOSTA_Optode-4831_SN_382_Calibration_Certificate_2018-04-11.pdf',\n",
       "  'DOSTA_Optode-4831_SN_382_Multipoint_Calibration_2014-07-03.pdf'],\n",
       " 'CGINS-DOSTAD-00385': ['DOSTA_Optode-4831_SN_385_Calibration_Certificate_2018-04-11.pdf',\n",
       "  'DOSTA_Optode-4831_SN_385_Multipoint_Calibration_2014-07-03.pdf',\n",
       "  'DOSTA_Optode-4831_SN_385_Multipoint_Calibration_2016-02-22.pdf'],\n",
       " 'CGINS-DOSTAD-00386': ['DOSTA_Optode-4831_SN_386_Calibration_Certificate_2016-03-07.pdf',\n",
       "  'DOSTA_Optode-4831_SN_386_Calibration_Certificate_2016-06-01.pdf',\n",
       "  'DOSTA_Optode-4831_SN_386_Calibration_Certificate_2018-05-24.pdf',\n",
       "  'DOSTA_Optode-4831_SN_386_Multipoint_Calibration_2014-07-03.pdf'],\n",
       " 'CGINS-DOSTAD-00387': ['DOSTA_Optode-4831_SN_387_Multipoint_Calibration_2014-07-03.pdf',\n",
       "  'DOSTA_Optode-4831_SN_387_Multipoint_Calibration_2016-02-22.pdf'],\n",
       " 'CGINS-DOSTAD-00388': ['DOSTA_Optode-4831_SN_388_Calibration_Certificate_2017-02-20.pdf',\n",
       "  'DOSTA_Optode-4831_SN_388_Calibration_Certificate_2017-12-13.pdf',\n",
       "  'DOSTA_Optode-4831_SN_388_Multipoint_Calibration_2014-07-03.pdf'],\n",
       " 'CGINS-DOSTAD-00389': ['DOSTA_Optode-4831_SN_389_Multipoint_Calibration_2014-07-03.pdf',\n",
       "  'DOSTA_Optode-4831_SN_389_Multipoint_Calibration_2016-02-22.pdf'],\n",
       " 'CGINS-DOSTAD-00390': ['DOSTA_Optode-4831_SN_390_Multipoint_Calibration_2014-07-03.pdf',\n",
       "  'DOSTA_Optode-4831_SN_390_Multipoint_Calibration_2016-02-22.pdf'],\n",
       " 'CGINS-DOSTAD-00391': ['DOSTA_Optode-4831_SN_391_Multipoint_Calibration_2014-07-24.pdf',\n",
       "  'DOSTA_Optode-4831_SN_391_Calibration_Certificate_2016_09_21.pdf',\n",
       "  'DOSTA_Optode-4831_SN_391_Calibration_Certificate_2017-03-21.pdf'],\n",
       " 'CGINS-DOSTAD-00392': ['DOSTA_Optode-4831_SN_392_Calibration_Certificate_2016-04-04.pdf',\n",
       "  'DOSTA_Optode-4831_SN_392_Calibration_Certificate_2018-03-13.pdf',\n",
       "  'DOSTA_Optode-4831_SN_392_Multipoint_Calibration_2014-07-24.pdf'],\n",
       " 'CGINS-DOSTAD-00393': ['DOSTA_Optode-4831_SN_393_Calibration_Certificate_2016-04-04.pdf',\n",
       "  'DOSTA_Optode-4831_SN_393_Calibration_Certificate_2018-03-13.pdf',\n",
       "  'DOSTA_Optode-4831_SN_393_Multipoint_Calibration_2014-07-24.pdf'],\n",
       " 'CGINS-DOSTAD-00394': ['DOSTA_Optode-4831_SN_394_Calibration_Certificate_2016_09_21.pdf',\n",
       "  'DOSTA_Optode-4831_SN_394_Calibration_Certificate_2017-03-21.pdf',\n",
       "  'DOSTA_Optode-4831_SN_394_Multipoint_Calibration_2014-07-24.pdf'],\n",
       " 'CGINS-DOSTAD-00410': ['DOSTA_Optode-4831_SN_410_Calibration_Certificate_2014-11-06.pdf',\n",
       "  'DOSTA_Optode-4831_SN_410_Multipoint_Calibration_2014-11-06.pdf',\n",
       "  'DOSTA_Optode-4831_SN_410_Multipoint_Calibration_2016-02-22.pdf'],\n",
       " 'CGINS-DOSTAD-00412': ['DOSTA_Optode-4831_SN_412_Calibration_Certificate_2014-11-06.pdf',\n",
       "  'DOSTA_Optode-4831_SN_412_Calibration_Certificate_2018-05-24.pdf',\n",
       "  'DOSTA_Optode-4831_SN_412_Multipoint_Calibration_2014-11-06.pdf',\n",
       "  'DOSTA_Optode-4831_SN_412_Multipoint_Calibration_2016-02-22.pdf'],\n",
       " 'CGINS-DOSTAD-00413': ['DOSTA_Optode-4831_SN_413_Calibration_Certificate_2017-03-17.pdf',\n",
       "  'DOSTA_Optode-4831_SN_413_Calibration_Certificate_2018-05-22.pdf',\n",
       "  'DOSTA_Optode-4831_SN_413_Multipoint_Calibration_2014-11-06.pdf',\n",
       "  'DOSTA_Optode-4831_SN_413_Calibration_Certificate_2014-11-06.pdf'],\n",
       " 'CGINS-DOSTAD-00415': ['DOSTA_Optode-4831_SN_415_Calibration_Certificate_2014-11-06.pdf',\n",
       "  'DOSTA_Optode-4831_SN_415_Calibration_Certificate_2016-10-03.pdf',\n",
       "  'DOSTA_Optode-4831_SN_415_Calibration_Certificate_2017-03-21.pdf',\n",
       "  'DOSTA_Optode-4831_SN_415_Multipoint_Calibration_2014-11-06.pdf'],\n",
       " 'CGINS-DOSTAD-00422': ['DOSTA_Optode-4831_SN_422_Calibration_Certificate_2014-11-06.pdf',\n",
       "  'DOSTA_Optode-4831_SN_422_Calibration_Certificate_2016-10-03.pdf',\n",
       "  'DOSTA_Optode-4831_SN_422_Calibration_Certificate_2017-03-21.pdf',\n",
       "  'DOSTA_Optode-4831_SN_422_Calibration_Certificate_2018-05-22.pdf',\n",
       "  'DOSTA_Optode-4831_SN_422_Multipoint_Calibration_2014-11-06.pdf'],\n",
       " 'CGINS-DOSTAD-00427': ['DOSTA_Optode-4831_SN_427_Calibration_Certificate_2016-03-15.pdf',\n",
       "  'DOSTA_Optode-4831_SN_427_Calibration_Certificate_2017-03-21.pdf',\n",
       "  'DOSTA_Optode-4831_SN_427_Calibration_Certificate_2018-05-22.pdf',\n",
       "  'DOSTA_Optode-4831_SN_427_Mulitpoint_Calibration_2014-10-12.pdf'],\n",
       " 'CGINS-DOSTAD-00428': ['DOSTA_Optode-4831_SN_428_Calibration_Certificate_2016-03-15.pdf',\n",
       "  'DOSTA_Optode-4831_SN_428_Mulitpoint_Calibration_2014-10-12.pdf'],\n",
       " 'CGINS-DOSTAD-00439': ['DOSTA_Optode-4831_SN_439_Calibration_Certificate_2015-03-24.pdf',\n",
       "  'DOSTA_Optode-4831_SN_439_Calibration_Certificate_2016-10-03.pdf',\n",
       "  'DOSTA_Optode-4831_SN_439_Calibration_Certificate_2017-03-21.pdf'],\n",
       " 'CGINS-DOSTAD-00456': ['DOSTA_Optode-4831_SN_456_Calibration_Certificate_2015-05-12.pdf',\n",
       "  'DOSTA_Optode-4831_SN_456_Calibration_Certificate_2016-10-03.pdf',\n",
       "  'DOSTA_Optode-4831_SN_456_Calibration_Certificate_2017-03-21.pdf',\n",
       "  'DOSTA_Optode-4831_SN_456_Calibration_Certificate_2018-09-20.pdf',\n",
       "  'DOSTA_Optode-4831_SN_456_Multipoint_Calibration_2015-08-28.pdf'],\n",
       " 'CGINS-DOSTAD-00457': ['DOSTA_Optode-4831_SN_457_Calibration_Certificate_2015-05-12.pdf',\n",
       "  'DOSTA_Optode-4831_SN_457_Calibration_Certificate_2016-10-03.pdf',\n",
       "  'DOSTA_Optode-4831_SN_457_Calibration_Certificate_2017-03-21.pdf',\n",
       "  'DOSTA_Optode-4831_SN_457_Calibration_Certificate_2018-09-20.pdf',\n",
       "  'DOSTA_Optode-4831_SN_457_Multipoint_Calibration_2015-08-28.pdf'],\n",
       " 'CGINS-DOSTAD-00460': ['DOSTA_Optode-4831_SN_460_Calibration_Certificate_2015-03-24.pdf',\n",
       "  'DOSTA_Optode-4831_SN_460_Calibration_Certificate_2017-03-17.pdf'],\n",
       " 'CGINS-DOSTAD-00461': ['DOSTA_Optode-4831_SN_461_Calibration_Certificate_2015-03-24.pdf',\n",
       "  'DOSTA_Optode-4831_SN_461_Calibration_Certificate_2017-03-17.pdf',\n",
       "  'DOSTA_Optode-4831_SN_461_Calibration_Certificate_2018-05-22.pdf'],\n",
       " 'CGINS-DOSTAD-00462': ['DOSTA_Optode-4831_SN_462_Calibration_Certificate_2015-03-24.pdf',\n",
       "  'DOSTA_Optode-4831_SN_462_Calibration_Certificate_2017-03-17.pdf',\n",
       "  'DOSTA_Optode-4831_SN_462_Calibration_Certificate_2018-05-22.pdf'],\n",
       " 'CGINS-DOSTAD-00463': ['DOSTA_Optode-4831_SN_463_Calibration_Certificate_2015-03-24.pdf',\n",
       "  'DOSTA_Optode-4831_SN_463_Calibration_Certificate_2017-03-17.pdf'],\n",
       " 'CGINS-DOSTAD-00464': ['DOSTA_Optode-4831_SN_464_Calibration_Certificate_2015-03-24.pdf',\n",
       "  'DOSTA_Optode-4831_SN_464_Calibration_Certificate_2017-03-17.pdf'],\n",
       " 'CGINS-DOSTAD-00465': ['DOSTA_Optode-4831_SN_465_Calibration_Certificate_2017-02-20.pdf',\n",
       "  'DOSTA_Optode-4831_SN_465_Multipoint_Calibration_2015-03-24.pdf'],\n",
       " 'CGINS-DOSTAD-00466': ['DOSTA_Optode-4831_SN_466_Calibration_Certificate_2017-02-20.pdf',\n",
       "  'DOSTA_Optode-4831_SN_466_Multipoint_Calibration_2015-03-24.pdf'],\n",
       " 'CGINS-DOSTAD-00467': ['DOSTA_Optode-4831_SN_467_Calibration_Certificate_2015-03-24.pdf',\n",
       "  'DOSTA_Optode-4831_SN_467_Calibration_Certificate_2017-03-17.pdf'],\n",
       " 'CGINS-DOSTAD-00495': ['DOSTA_Optode-4831_SN_495_Calibration_Certificate_2017-03-17.pdf',\n",
       "  'DOSTA_Optode-4831_SN_495_Multipoint_Calibration_2015-08-04.pdf'],\n",
       " 'CGINS-DOSTAD-00497': ['DOSTA_Optode-4831_SN_497_Calibration_Certificate_2017-03-17.pdf',\n",
       "  'DOSTA_Optode-4831_SN_497_Calibration_Certificate_2018-08-17.pdf',\n",
       "  'DOSTA_Optode-4831_SN_497_Multipoint_Calibration_2015-08-04.pdf'],\n",
       " 'CGINS-DOSTAD-00498': ['DOSTA_Optode-4831_SN_498_Calibration_Certificate_2017-03-17.pdf',\n",
       "  'DOSTA_Optode-4831_SN_498_Calibration_Certificate_2018-08-17.pdf',\n",
       "  'DOSTA_Optode-4831_SN_498_Multipoint_Calibration_2015-08-04.pdf'],\n",
       " 'CGINS-DOSTAD-00502': ['DOSTA_Optode-4831_SN_502_Calibration_Certificate_2017-03-17.pdf',\n",
       "  'DOSTA_Optode-4831_SN_502_Calibration_Certificate_2018-08-17.pdf',\n",
       "  'DOSTA_Optode-4831_SN_502_Multipoint_Calibration_2015-08-04.pdf'],\n",
       " 'CGINS-DOSTAD-00503': ['DOSTA_Optode-4831_SN_503_Calibration_Certificate_2017-08-21.pdf',\n",
       "  'DOSTA_Optode-4831_SN_503_Multipoint_Calibration_2015-08-04.pdf',\n",
       "  'DOSTA_Optode-4831_SN_503_Single_point_Calibration_2016-06-06.pdf'],\n",
       " 'CGINS-DOSTAD-00507': ['DOSTA_Optode-4831_SN_507_Calibration_Certificate_2017-08-21.pdf',\n",
       "  'DOSTA_Optode-4831_SN_507_Multipoint_Calibration_2015-08-04.pdf',\n",
       "  'DOSTA_Optode-4831_SN_507_Single_point_Calibration_2016-06-06.pdf'],\n",
       " 'CGINS-DOSTAD-00508': ['DOSTA_Optode-4831_SN_508_Calibration_Certificate_2017-08-21.pdf',\n",
       "  'DOSTA_Optode-4831_SN_508_Multipoint_Calibration_2015-08-04.pdf',\n",
       "  'DOSTA_Optode-4831_SN_508_Single_point_Calibration_2016-06-06.pdf'],\n",
       " 'CGINS-DOSTAD-00512': ['DOSTA_Optode-4831_SN_512_Calibration_Certificate_2017-08-21.pdf',\n",
       "  'DOSTA_Optode-4831_SN_512_Multipoint_Calibration_2015-08-04.pdf',\n",
       "  'DOSTA_Optode-4831_SN_512_Single_point_Calibration_2016-06-06.pdf'],\n",
       " 'CGINS-DOSTAD-00514': ['DOSTA_Optode-4831_SN_514_Calibration_Certificate_2016-05-02.pdf',\n",
       "  'DOSTA_Optode-4831_SN_514_Calibration_Certificate_2017-08-21.pdf',\n",
       "  'DOSTA_Optode-4831_SN_514_Multipoint_Calibration_2015-08-04.pdf'],\n",
       " 'CGINS-DOSTAD-00515': ['DOSTA_Optode-4831_SN_515_Calibration_Certificate_2017-02-20.pdf',\n",
       "  'DOSTA_Optode-4831_SN_515_Calibration_Certificate_2017-12-13.pdf',\n",
       "  'DOSTA_Optode-4831_SN_515_Multipoint_Calibration_2015-08-04.pdf'],\n",
       " 'CGINS-DOSTAD-00516': ['DOSTA_Optode-4831_SN_516_Calibration_Certificate_2017-02-20.pdf',\n",
       "  'DOSTA_Optode-4831_SN_516_Calibration_Certificate_2017-12-13.pdf',\n",
       "  'DOSTA_Optode-4831_SN_516_Multipoint_Calibration_2015-08-04.pdf'],\n",
       " 'CGINS-DOSTAD-00517': ['DOSTA_Optode-4831_SN_517_Calibration_Certificate_2017-02-20.pdf',\n",
       "  'DOSTA_Optode-4831_SN_517_Calibration_Certificate_2017-12-13.pdf',\n",
       "  'DOSTA_Optode-4831_SN_517_Multipoint_Calibration_2015-08-04.pdf'],\n",
       " 'CGINS-DOSTAD-00518': ['DOSTA_Optode-4831_SN_518_Calibration_Certificate_2017-02-20.pdf',\n",
       "  'DOSTA_Optode-4831_SN_518_Calibration_Certificate_2017-12-13.pdf',\n",
       "  'DOSTA_Optode-4831_SN_518_Multipoint_Calibration_2015-08-04.pdf'],\n",
       " 'CGINS-DOSTAD-00519': ['DOSTA_Optode-4831_SN_519_Calibration_Certificate_2018-08-17.pdf',\n",
       "  'DOSTA_Optode-4831_SN_519_Multipoint_Calibration_2015-08-04.pdf'],\n",
       " 'CGINS-DOSTAD-00663': ['DOSTA_Optode-4831_SN_663_Multipoint_Calibration_2016-11-23.zip']}"
      ]
     },
     "execution_count": 15,
     "metadata": {},
     "output_type": "execute_result"
    }
   ],
   "source": [
    "cal_dict = get_calibration_files(serial_nums, cal_directory)\n",
    "cal_dict"
   ]
  },
  {
   "cell_type": "markdown",
   "metadata": {},
   "source": [
    "========================================================================================================================\n",
    "**Now, need to get all the files for a particular CTDMO UID:**"
   ]
  },
  {
   "cell_type": "code",
   "execution_count": 61,
   "metadata": {},
   "outputs": [
    {
     "data": {
      "text/plain": [
       "'CGINS-DOSTAD-00126'"
      ]
     },
     "execution_count": 61,
     "metadata": {},
     "output_type": "execute_result"
    }
   ],
   "source": [
    "uid = sorted(uids)[0]\n",
    "uid"
   ]
  },
  {
   "cell_type": "code",
   "execution_count": 62,
   "metadata": {},
   "outputs": [
    {
     "name": "stdout",
     "output_type": "stream",
     "text": [
      "DOSTA_Optode-4831_SN_126_Calibration_Certificate_2016-03-11.pdf\n",
      "DOSTA_Optode-4831_SN_126_Calibration_Certificate_2017-08-19.pdf\n",
      "DOSTA_Optode-4831_SN_126_Multipoint_Calibration_2013-02-27.pdf\n",
      "DOSTA_Optode-4831_SN_126_Multipoint_Calibration_2018-03-09.pdf\n"
     ]
    }
   ],
   "source": [
    "cal_files = sorted(cal_dict[uid])\n",
    "for file in cal_files:\n",
    "    print(file)"
   ]
  },
  {
   "cell_type": "code",
   "execution_count": 63,
   "metadata": {},
   "outputs": [
    {
     "name": "stdout",
     "output_type": "stream",
     "text": [
      "CGINS-DOSTAD-00126__20140916.csv\n",
      "CGINS-DOSTAD-00126__20161011.csv\n",
      "CGINS-DOSTAD-00126__20170819.csv\n",
      "CGINS-DOSTAD-00126__20180309.csv\n"
     ]
    }
   ],
   "source": [
    "csv_files = sorted(csv_dict[uid])\n",
    "for file in csv_files:\n",
    "    print(file)"
   ]
  },
  {
   "cell_type": "code",
   "execution_count": 64,
   "metadata": {},
   "outputs": [
    {
     "name": "stdout",
     "output_type": "stream",
     "text": [
      "3305-00115-00128\n",
      "3305-00115-00234\n",
      "3305-00115-00259\n"
     ]
    }
   ],
   "source": [
    "qct_files = sorted(qct_dict[uid])\n",
    "for file in qct_files:\n",
    "    print(file)"
   ]
  },
  {
   "cell_type": "code",
   "execution_count": null,
   "metadata": {},
   "outputs": [],
   "source": []
  },
  {
   "cell_type": "code",
   "execution_count": 65,
   "metadata": {},
   "outputs": [
    {
     "data": {
      "text/plain": [
       "['/home/andrew/Documents/OOI-CGSN/ooi-integration/asset-management/calibration/DOSTAD/CGINS-DOSTAD-00126__20140916.csv',\n",
       " '/home/andrew/Documents/OOI-CGSN/ooi-integration/asset-management/calibration/DOSTAD/CGINS-DOSTAD-00126__20161011.csv',\n",
       " '/home/andrew/Documents/OOI-CGSN/ooi-integration/asset-management/calibration/DOSTAD/CGINS-DOSTAD-00126__20170819.csv',\n",
       " '/home/andrew/Documents/OOI-CGSN/ooi-integration/asset-management/calibration/DOSTAD/CGINS-DOSTAD-00126__20180309.csv']"
      ]
     },
     "execution_count": 65,
     "metadata": {},
     "output_type": "execute_result"
    }
   ],
   "source": [
    "csv_path = []\n",
    "for cf in csv_files:\n",
    "    path = generate_file_path(asset_management_directory, cf)\n",
    "    csv_path.append(path)\n",
    "csv_path"
   ]
  },
  {
   "cell_type": "code",
   "execution_count": 66,
   "metadata": {},
   "outputs": [
    {
     "data": {
      "text/plain": [
       "['/media/andrew/OS/Users/areed/Documents/Project_Files/Records/Instrument_Records/DOSTA/DOSTA_Cal/DOSTA_Optode-4831_SN_126_Calibration_Certificate_2016-03-11.pdf',\n",
       " '/media/andrew/OS/Users/areed/Documents/Project_Files/Records/Instrument_Records/DOSTA/DOSTA_Cal/DOSTA_Optode-4831_SN_126_Calibration_Certificate_2017-08-19.pdf',\n",
       " '/media/andrew/OS/Users/areed/Documents/Project_Files/Records/Instrument_Records/DOSTA/DOSTA_Cal/DOSTA_Optode-4831_SN_126_Multipoint_Calibration_2013-02-27.pdf',\n",
       " '/media/andrew/OS/Users/areed/Documents/Project_Files/Records/Instrument_Records/DOSTA/DOSTA_Cal/DOSTA_Optode-4831_SN_126_Multipoint_Calibration_2018-03-09.pdf']"
      ]
     },
     "execution_count": 66,
     "metadata": {},
     "output_type": "execute_result"
    }
   ],
   "source": [
    "cal_path = []\n",
    "for cf in cal_files:\n",
    "    path = generate_file_path(cal_directory, cf)\n",
    "    cal_path.append(path)\n",
    "cal_path"
   ]
  },
  {
   "cell_type": "code",
   "execution_count": 67,
   "metadata": {},
   "outputs": [
    {
     "data": {
      "text/plain": [
       "['/media/andrew/OS/Users/areed/Documents/Project_Files/Records/Instrument_Records/DOSTA/DOSTA_Results/3305-00115-00128-A.log',\n",
       " '/media/andrew/OS/Users/areed/Documents/Project_Files/Records/Instrument_Records/DOSTA/DOSTA_Results/3305-00115-00234-A.log',\n",
       " '/media/andrew/OS/Users/areed/Documents/Project_Files/Records/Instrument_Records/DOSTA/DOSTA_Results/3305-00115-00259-A.txt']"
      ]
     },
     "execution_count": 67,
     "metadata": {},
     "output_type": "execute_result"
    }
   ],
   "source": [
    "qct_path = []\n",
    "for qf in qct_files:\n",
    "    path = generate_file_path(qct_directory, qf)\n",
    "    qct_path.append(path)\n",
    "qct_path"
   ]
  },
  {
   "cell_type": "markdown",
   "metadata": {},
   "source": [
    "### What does the DOSTA Calibration file format look like?\n",
    "\n",
    "1. The calibration files are all pdf files sent by SeaBird. They are most likely NOT machine readable, which presents a challenge in automating this approach.\n",
    "\n",
    "2. Conclusion: I won't try to read the pdfs. Instead, I'll focus on writing the csv cal sheet from the qct checkin info."
   ]
  },
  {
   "cell_type": "code",
   "execution_count": 69,
   "metadata": {},
   "outputs": [],
   "source": [
    "import textract"
   ]
  },
  {
   "cell_type": "code",
   "execution_count": 77,
   "metadata": {},
   "outputs": [
    {
     "name": "stdout",
     "output_type": "stream",
     "text": [
      " \n",
      "\n",
      "VAANDERAA CALIBRATION CERTIFICATE\n",
      "\n",
      "Form No 830, Juli 2012\n",
      "\n",
      " \n",
      "\n",
      "a xylem brand\n",
      "Certificate no: 4831_126_00133171 Product: 4831 Serial no: 126\n",
      "Foil batch no: 1517M Calibration date: 19.08.2017 Page 1 of 2\n",
      "Ps Porson omen] oun [eran enim | reams |\n",
      "0 30.014 0.49 -220.380 60.41\n",
      "1 19.698 0.32 107.735 61.22\n",
      "2 9,716 0.58 435.515 61.93\n",
      "3 0.577 157 721,790 62.54\n",
      "4 0.649 22.56 719,645 59.71\n",
      "5 0.719 44.81 717.520 57.04\n",
      "6 0.757 65.11 716,415 54.85\n",
      "7 0.733 105,73 717.135 51.07\n",
      "8 0.724 145.47 717.410 47.98\n",
      "9 0.697 212.40 718.210 43,80\n",
      "10 0.661 312.96 719,300 39.09\n",
      "Ml 0.641 417.89 719.875 35.46\n",
      "12 0.659 518.93 719,340 32.81\n",
      "13 10,137 13.11 421.875 59.63\n",
      "14 10.049 34.26 424,720 55.93\n",
      "15 9.962 50.31 427.585 53.53\n",
      "16 9.902 81.33 429,540 49.56\n",
      "7 9,854 113.61 431,080 46.20\n",
      "18 9.789 166.71 433.195 41.85\n",
      "19 9,722 245.91 435.340 IAL\n",
      "20 9.698 328.21 436.125 33.58\n",
      "a 9.716 410.07 435,555 30,94\n",
      "22 19.827 9.57 103.500 58.84\n",
      "23 19,753 24.38 105,940 55,17\n",
      "24 15,699 36.87 107.685 52.52\n",
      "25 19.671 62.73 108.620 47,99\n",
      "26 19,658 88.47 209.015 44.41\n",
      "27 19.652 130.68 109.270 39.87\n",
      "28 19.651 196.82 109.290 34.89\n",
      "29 19.655 259,81 109,120 31.58\n",
      "30 19.664 327.27 108.845, 28,97\n",
      "31 30,105 2.75 223,140 57.69\n",
      "32 30.119 18.92 -223,560 53,92\n",
      "33 30.128 29.09 -223,800 51.02\n",
      "34 30.128 49,62 223,800 46.29\n",
      "35 30,133 70.10 -224.000 42,62\n",
      "36 30.145 104,68 224.345 37.94\n",
      "37 30.109 157.39 223.230 33.14\n",
      "38 30.107 208.12 -223,205 29,92\n",
      "39 30.116 264.59 -223,480 27.34\n",
      "\n",
      "Paget\n",
      "\f",
      "DANDERAA CALIBRATION CERTIFICATE\n",
      "\n",
      " \n",
      "\n",
      "a xylem brand\n",
      "Certificate no: 4831_126_00133171 Product: 4831 Serial no: 126\n",
      "Foit batch no: 1517M Calibration date: 19.08.2017 Page 2 of 2\n",
      "pun 0 1 2 3 4 5 6\n",
      "ag 2.77999E-03  L.17207E-04 © 2.4830BE-06 = 2.29040E02 —--3.20348E-01 —-5.75312E01 —4.56277E00\n",
      "0.00000E00\n",
      "\n",
      "re 2,30065€01 ~3.09698E-02 2.85493E-06 -4.15548E-09 0.00000£00\n",
      "\n",
      " \n",
      "\n",
      "Oxygen validation\n",
      "\n",
      "* OQ: deviation —— +2.5uM/+1.5% = == -2.5yM/-1,5%\n",
      "\n",
      "Temperature validation\n",
      "® Main —— +0,030 —— -0,03°C\n",
      "\n",
      " \n",
      "\n",
      " \n",
      "\n",
      "Date: 19.08.2017 Tre Loe hintooay\n",
      "\n",
      "Tor-Ove Kvalvaag, Calibration Engineer\n",
      "\n",
      "Page 2\n",
      "\f",
      "\n"
     ]
    }
   ],
   "source": [
    "ptext = textract.process(cal_path[1], method='tesseract', encoding='utf-8')\n",
    "print(ptext.decode('utf-8'))"
   ]
  },
  {
   "cell_type": "code",
   "execution_count": null,
   "metadata": {},
   "outputs": [],
   "source": [
    "ptext = ptext.replace(b'\\xe2\\x80\\x94',b'-')\n",
    "ptext = ptext.decode('utf-8')"
   ]
  },
  {
   "cell_type": "code",
   "execution_count": 58,
   "metadata": {},
   "outputs": [
    {
     "data": {
      "text/html": [
       "<div>\n",
       "<style scoped>\n",
       "    .dataframe tbody tr th:only-of-type {\n",
       "        vertical-align: middle;\n",
       "    }\n",
       "\n",
       "    .dataframe tbody tr th {\n",
       "        vertical-align: top;\n",
       "    }\n",
       "\n",
       "    .dataframe thead th {\n",
       "        text-align: right;\n",
       "    }\n",
       "</style>\n",
       "<table border=\"1\" class=\"dataframe\">\n",
       "  <thead>\n",
       "    <tr style=\"text-align: right;\">\n",
       "      <th></th>\n",
       "      <th>serial</th>\n",
       "      <th>name</th>\n",
       "      <th>value</th>\n",
       "      <th>notes</th>\n",
       "    </tr>\n",
       "  </thead>\n",
       "  <tbody>\n",
       "    <tr>\n",
       "      <th>0</th>\n",
       "      <td>126</td>\n",
       "      <td>CC_conc_coef</td>\n",
       "      <td>[0.0, 1.0]</td>\n",
       "      <td>default</td>\n",
       "    </tr>\n",
       "    <tr>\n",
       "      <th>1</th>\n",
       "      <td>126</td>\n",
       "      <td>CC_csv</td>\n",
       "      <td>[0.002723472, 0.0001146171, 2.127325e-06, 233....</td>\n",
       "      <td>NaN</td>\n",
       "    </tr>\n",
       "  </tbody>\n",
       "</table>\n",
       "</div>"
      ],
      "text/plain": [
       "   serial          name                                              value  \\\n",
       "0     126  CC_conc_coef                                         [0.0, 1.0]   \n",
       "1     126        CC_csv  [0.002723472, 0.0001146171, 2.127325e-06, 233....   \n",
       "\n",
       "     notes  \n",
       "0  default  \n",
       "1      NaN  "
      ]
     },
     "execution_count": 58,
     "metadata": {},
     "output_type": "execute_result"
    }
   ],
   "source": [
    "pd.read_csv(csv_path[0])"
   ]
  },
  {
   "cell_type": "code",
   "execution_count": null,
   "metadata": {},
   "outputs": [],
   "source": []
  },
  {
   "cell_type": "code",
   "execution_count": null,
   "metadata": {},
   "outputs": [],
   "source": []
  },
  {
   "cell_type": "markdown",
   "metadata": {},
   "source": [
    "### What do the DOSTA QCT file format look like?"
   ]
  },
  {
   "cell_type": "code",
   "execution_count": null,
   "metadata": {},
   "outputs": [],
   "source": [
    "#!/usr/bin/env python\n",
    "import csv\n",
    "import datetime\n",
    "import os\n",
    "import shutil\n",
    "import sys\n",
    "import time\n",
    "import re\n",
    "import xml.etree.ElementTree as et\n",
    "import pandas as pd\n",
    "from zipfile import ZipFile\n",
    "\n",
    "\n",
    "class DOSTACalibration():\n",
    "    # Class that stores calibration values for DOSTA's.\n",
    "\n",
    "    def __init__(self, uid, calibration_date):\n",
    "        self.serial = ''\n",
    "        self.uid = uid\n",
    "        self.date = pd.to_datetime(calibration_date).strftime('%Y%m%d')\n",
    "        self.coefficients = {'CC_conc_coef':None,\n",
    "                            'CC_csv':None}\n",
    "        self.notes = {'CC_conc_coef':None,\n",
    "                      'CC_csv':None}\n",
    "                \n",
    "    @property\n",
    "    def uid(self):\n",
    "        return self._uid\n",
    "        \n",
    "    @uid.setter\n",
    "    def uid(self, d):\n",
    "        r = re.compile('.{5}-.{6}-.{5}')\n",
    "        if r.match(d) is not None:\n",
    "            self.serial = d.split('-')[2]\n",
    "            self._uid = d\n",
    "        else:\n",
    "            raise Exception(f\"The instrument uid {d} is not a valid uid. Please check.\")\n",
    "            \n",
    "            \n",
    "    def generate_file_path(self,dirpath,filename,ext=['.cap','.txt','.log'],exclude=['_V','_Data_Workshop']):\n",
    "        \"\"\"\n",
    "        Function which searches for the location of the given file and returns\n",
    "        the full path to the file.\n",
    "        \n",
    "        Args:\n",
    "            dirpath - parent directory path under which to search\n",
    "            filename - the name of the file to search for\n",
    "            ext - file endings to search for\n",
    "            exclude - optional list which allows for excluding certain\n",
    "                directories from the search\n",
    "        Returns:\n",
    "            fpath - the file path to the filename from the current\n",
    "                working directory.\n",
    "        \"\"\"\n",
    "        # Check if the input file name has an extension already\n",
    "        # If it does, parse it for input into the search algo\n",
    "        if '.' in filename:\n",
    "            check = filename.split('.')\n",
    "            filename = check[0]\n",
    "            ext = ['.'+check[1]]\n",
    "        \n",
    "        for root, dirs, files in os.walk(dirpath):\n",
    "            dirs[:] = [d for d in dirs if d not in exclude]\n",
    "            for fname in files:\n",
    "                if fnmatch.fnmatch(fname, [filename+'*'+x for x in ext]):\n",
    "                    fpath = os.path.join(root, fname)\n",
    "                    return fpath\n",
    "                \n",
    "    def load_qct(self, filepath):\n",
    "        \"\"\"\n",
    "        Function which parses the output from the QCT check-in and loads them into\n",
    "        the DOSTA object.\n",
    "        \n",
    "        Args:\n",
    "            filepath - the full directory path and filename \n",
    "        Raises:\n",
    "            ValueError - checks if the serial number parsed from the UID matches the\n",
    "                the serial number stored in the file.\n",
    "        Returns:\n",
    "            self.coefficients - populated coefficients dictionary\n",
    "            self.date - the calibration dates associated with the calibration values\n",
    "            self.type - the type (i.e. 16+/37-IM) of the CTD\n",
    "            self.serial - populates the 5-digit serial number of the instrument \n",
    "        \"\"\"\n",
    "        \n",
    "        data = {}\n",
    "        with open(filepath, errors='ignore') as file:\n",
    "            reader = csv.reader(file, delimiter='\\t')\n",
    "            for row in reader:\n",
    "                data.update({reader.line_num:row})\n",
    "                \n",
    "        for key,info in data.items():\n",
    "            # Find the serial number from the QCT check-in and compare to UID\n",
    "            if 'serial number' in [x.lower() for x in info]:\n",
    "                serial_num = info[-1].zfill(5)\n",
    "                if self.serial != serial_num:\n",
    "                    raise ValueError(f'Serial number {serial_num.zfill(5)} from the QCT file does not match {self.serial} from the UID.')\n",
    "                else:\n",
    "                    pass\n",
    "                \n",
    "            # Find the svu foil coefficients\n",
    "            if 'svufoilcoef' in [x.lower() for x in info]:\n",
    "                self.coefficients['CC_csv'] = [float(n) for n in info[3:]]\n",
    "            \n",
    "            # Find the concentration coefficients\n",
    "            if 'conccoef' in [x.lower() for x in info]:\n",
    "                self.coefficients['CC_conc_coef'] = [float(n) for n in info[3:]]\n",
    "                \n",
    "    def add_notes(self, notes):\n",
    "        \"\"\"\n",
    "        This function adds notes to the calibration csv based on the \n",
    "        calibration coefficients.\n",
    "        \n",
    "        Args:\n",
    "            notes - a dictionary with keys of the calibration coefficients\n",
    "                which correspond to an entry of desired notes about the \n",
    "                corresponding coefficients\n",
    "        Returns:\n",
    "            self.notes - a dictionary with the entered notes.\n",
    "        \"\"\"\n",
    "        keys = notes.keys()\n",
    "        for key in keys:\n",
    "            self.notes[key] = notes[key]\n",
    "\n",
    "\n",
    "    def write_csv(self, outpath):\n",
    "        \"\"\"\n",
    "        This function writes the correctly named csv file for the ctd to the\n",
    "        specified directory.\n",
    "        \n",
    "        Args:\n",
    "            outpath - directory path of where to write the csv file\n",
    "        Raises:\n",
    "            ValueError - raised if the CTD object's coefficient dictionary \n",
    "                has not been populated\n",
    "        Returns:\n",
    "            self.to_csv - a csv of the calibration coefficients which is \n",
    "                written to the specified directory from the outpath.\n",
    "        \"\"\"\n",
    "        \n",
    "        # Run a check that the coefficients have actually been loaded\n",
    "        for key in self.coefficients.keys():\n",
    "            if self.coefficients[key] == None:\n",
    "                raise ValueError(f'No coefficients for {key} have been loaded.')\n",
    "            \n",
    "        # Create a dataframe to write to the csv\n",
    "        data = {'serial':[self.serial]*len(self.coefficients),\n",
    "               'name':list(self.coefficients.keys()),\n",
    "               'value':list(self.coefficients.values()),\n",
    "               'notes':list(self.notes.values()) }\n",
    "        df = pd.DataFrame().from_dict(data)\n",
    "        \n",
    "        # Generate the csv name\n",
    "        csv_name = self.uid + '__' + self.date + '.csv'\n",
    "        \n",
    "        # Now write to \n",
    "        check = input(f\"Write {csv_name} to {outpath}? [y/n]: \")\n",
    "        if check.lower().strip() == 'y':\n",
    "            df.to_csv(outpath+'/'+csv_name, index=False)"
   ]
  },
  {
   "cell_type": "code",
   "execution_count": null,
   "metadata": {},
   "outputs": [],
   "source": [
    "DOSTA = DOSTACalibration(uid='CGINS-DOSTAD-00126',calibration_date='March 22, 2019')"
   ]
  },
  {
   "cell_type": "code",
   "execution_count": null,
   "metadata": {},
   "outputs": [],
   "source": [
    "DOSTA.date"
   ]
  },
  {
   "cell_type": "code",
   "execution_count": null,
   "metadata": {},
   "outputs": [],
   "source": [
    "filepath = DOSTA.generate_file_path(qct_directory,'3305-00115-00128')\n",
    "filepath"
   ]
  },
  {
   "cell_type": "code",
   "execution_count": null,
   "metadata": {},
   "outputs": [],
   "source": [
    "DOSTA.load_qct(filepath)"
   ]
  },
  {
   "cell_type": "code",
   "execution_count": null,
   "metadata": {},
   "outputs": [],
   "source": [
    "DOSTA.coefficients"
   ]
  },
  {
   "cell_type": "code",
   "execution_count": null,
   "metadata": {},
   "outputs": [],
   "source": [
    "DOSTA.serial"
   ]
  },
  {
   "cell_type": "code",
   "execution_count": null,
   "metadata": {},
   "outputs": [],
   "source": [
    "DOSTA.add_notes({'CC_conc_coef':'[intercept,slope]'})"
   ]
  },
  {
   "cell_type": "code",
   "execution_count": null,
   "metadata": {},
   "outputs": [],
   "source": [
    "outdir = '/'.join((os.getcwd(),'temp'))"
   ]
  },
  {
   "cell_type": "code",
   "execution_count": null,
   "metadata": {},
   "outputs": [],
   "source": [
    "DOSTA.write_csv(outdir)"
   ]
  },
  {
   "cell_type": "code",
   "execution_count": null,
   "metadata": {},
   "outputs": [],
   "source": [
    "out = generate_file_path(asset_management_directory, csv_files[0].split('.')[0],ext=['.csv'])\n",
    "print(out)"
   ]
  },
  {
   "cell_type": "code",
   "execution_count": null,
   "metadata": {},
   "outputs": [],
   "source": [
    "check = csv_files[0].split('.')\n",
    "check"
   ]
  },
  {
   "cell_type": "code",
   "execution_count": null,
   "metadata": {},
   "outputs": [],
   "source": [
    "if type(check) is str:\n",
    "    print('This logic works')"
   ]
  },
  {
   "cell_type": "code",
   "execution_count": null,
   "metadata": {},
   "outputs": [],
   "source": [
    "csv_files[0]"
   ]
  },
  {
   "cell_type": "code",
   "execution_count": null,
   "metadata": {},
   "outputs": [],
   "source": [
    "qct_filepath = generate_file_path(qct_directory, '3305-00115-00128')"
   ]
  },
  {
   "cell_type": "code",
   "execution_count": null,
   "metadata": {},
   "outputs": [],
   "source": [
    "data = {}\n",
    "with open(qct_filepath, errors='ignore') as file:\n",
    "    reader = csv.reader(file, delimiter='\\t')\n",
    "    for row in reader:\n",
    "        data.update({reader.line_num:row})"
   ]
  },
  {
   "cell_type": "code",
   "execution_count": null,
   "metadata": {},
   "outputs": [],
   "source": [
    "for key,info in data.items():\n",
    "    if 'serial number' in [x.lower() for x in info]:\n",
    "        print(key)\n",
    "        print(info)"
   ]
  },
  {
   "cell_type": "code",
   "execution_count": null,
   "metadata": {},
   "outputs": [],
   "source": [
    "data"
   ]
  },
  {
   "cell_type": "code",
   "execution_count": null,
   "metadata": {},
   "outputs": [],
   "source": [
    "for key,info in data.items():\n",
    "    if 'svufoilcoef' in [x.lower() for x in info]:\n",
    "        print(key)\n",
    "        print(info)"
   ]
  },
  {
   "cell_type": "code",
   "execution_count": null,
   "metadata": {},
   "outputs": [],
   "source": [
    "info[3:]"
   ]
  },
  {
   "cell_type": "code",
   "execution_count": null,
   "metadata": {},
   "outputs": [],
   "source": [
    "for key,info in data.items():\n",
    "    if 'conccoef' in [x.lower() for x in info]:\n",
    "        print(key)\n",
    "        print(info)"
   ]
  },
  {
   "cell_type": "code",
   "execution_count": null,
   "metadata": {},
   "outputs": [],
   "source": [
    "data"
   ]
  },
  {
   "cell_type": "code",
   "execution_count": null,
   "metadata": {},
   "outputs": [],
   "source": []
  }
 ],
 "metadata": {
  "kernelspec": {
   "display_name": "Python 3",
   "language": "python",
   "name": "python3"
  },
  "language_info": {
   "codemirror_mode": {
    "name": "ipython",
    "version": 3
   },
   "file_extension": ".py",
   "mimetype": "text/x-python",
   "name": "python",
   "nbconvert_exporter": "python",
   "pygments_lexer": "ipython3",
   "version": "3.7.3"
  }
 },
 "nbformat": 4,
 "nbformat_minor": 2
}
