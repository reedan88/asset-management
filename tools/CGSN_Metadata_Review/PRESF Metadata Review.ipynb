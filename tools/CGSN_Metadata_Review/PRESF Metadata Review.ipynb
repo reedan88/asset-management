{
 "cells": [
  {
   "cell_type": "markdown",
   "metadata": {},
   "source": [
    "# PRESF Metadata Review\n",
    "\n",
    "This notebook describes the process for reviewing the calibration coefficients for the PRESF SBE 26plus. The purpose is to check the calibration coefficients contained in the CSVs stored within the asset management repository on GitHub, which are the coefficients utilized by OOI-net for calculating data products, against the different available sources of calibration information to identify when errors were made during entering the calibration csvs. This includes checking the following information:\n",
    "1. The calibration date - this information is stored in the filename of the csv\n",
    "2. Calibration source - identifying all the possible sources of calibration information, and determine which file should supply the calibration info\n",
    "3. Calibration coeffs - checking the accuracy and precision of the numbers stored in the calibration coefficients\n",
    "\n",
    "The PRESF contains 18 different calibration coefficients to check, two of which are fixed constants. The possible calibration sources for the PRESF are vendor PDFs and QCT check-ins. However, calibrations from the vendor PDFs are split across multiple documents and many are missing either coefficients or PDFs. Consequently, we utilize the QCT check-in as the source of calibration coefficients. The relevant file stored within the QCTs are .hex files.\n",
    "\n",
    "**========================================================================================================================**"
   ]
  },
  {
   "cell_type": "code",
   "execution_count": null,
   "metadata": {},
   "outputs": [],
   "source": [
    "from utils import *"
   ]
  },
  {
   "cell_type": "code",
   "execution_count": null,
   "metadata": {},
   "outputs": [],
   "source": [
    "import os, re, sys\n",
    "import shutil\n",
    "import pandas as pd\n",
    "import numpy as np\n",
    "from zipfile import ZipFile"
   ]
  },
  {
   "cell_type": "markdown",
   "metadata": {},
   "source": [
    "========================================================================================================================\n",
    "### Directories\n",
    "**Define the main directories where important information is stored.**"
   ]
  },
  {
   "cell_type": "code",
   "execution_count": null,
   "metadata": {},
   "outputs": [],
   "source": [
    "qct_directory = '/media/andrew/OS/Users/areed/Documents/Project_Files/Records/Instrument_Records/PRESF/PRESF_Results'\n",
    "cal_directory = '/media/andrew/OS/Users/areed/Documents/Project_Files/Records/Instrument_Records/PRESF/PRESF_Cal'\n",
    "asset_management_directory = '/home/andrew/Documents/OOI-CGSN/ooi-integration/asset-management/calibration/PRESFC'"
   ]
  },
  {
   "cell_type": "code",
   "execution_count": null,
   "metadata": {},
   "outputs": [],
   "source": [
    "excel_spreadsheet = '/media/andrew/OS/Users/areed/Documents/Project_Files/Documentation/System/System Notebook/WHOI_Asset_Tracking.xlsx'\n",
    "sheet_name = 'Sensors'"
   ]
  },
  {
   "cell_type": "code",
   "execution_count": null,
   "metadata": {},
   "outputs": [],
   "source": [
    "PRESF = whoi_asset_tracking(excel_spreadsheet,sheet_name,instrument_class='PRESF',whoi=True)\n",
    "PRESF"
   ]
  },
  {
   "cell_type": "markdown",
   "metadata": {},
   "source": [
    "**Identify the QCT Testing documents associated with each individual instrument (the UID)**"
   ]
  },
  {
   "cell_type": "code",
   "execution_count": null,
   "metadata": {},
   "outputs": [],
   "source": [
    "qct_dict = get_qct_files(PRESF, qct_directory)\n",
    "qct_dict"
   ]
  },
  {
   "cell_type": "markdown",
   "metadata": {},
   "source": [
    "**Identify the calibration csvs stored in asset management which correspond to a particular instrument.**"
   ]
  },
  {
   "cell_type": "code",
   "execution_count": null,
   "metadata": {},
   "outputs": [],
   "source": [
    "csv_dict = load_asset_management(PRESF, asset_management_directory)\n",
    "csv_dict"
   ]
  },
  {
   "cell_type": "code",
   "execution_count": null,
   "metadata": {},
   "outputs": [],
   "source": [
    "uids = sorted(list(csv_dict.keys()))"
   ]
  },
  {
   "cell_type": "code",
   "execution_count": null,
   "metadata": {},
   "outputs": [],
   "source": [
    "serial_nums = get_serial_nums(PRESF, uids)\n",
    "serial_nums"
   ]
  },
  {
   "cell_type": "code",
   "execution_count": null,
   "metadata": {},
   "outputs": [],
   "source": [
    "cal_dict = get_calibration_files(serial_nums, cal_directory)\n",
    "cal_dict"
   ]
  },
  {
   "cell_type": "markdown",
   "metadata": {},
   "source": [
    "========================================================================================================================\n",
    "**Now, need to get all the files for a particular CTDMO UID:**"
   ]
  },
  {
   "cell_type": "code",
   "execution_count": null,
   "metadata": {},
   "outputs": [],
   "source": [
    "uid = sorted(uids)[2]\n",
    "uid"
   ]
  },
  {
   "cell_type": "code",
   "execution_count": null,
   "metadata": {},
   "outputs": [],
   "source": [
    "cal_files = sorted(cal_dict[uid])\n",
    "for file in cal_files:\n",
    "    print(file)"
   ]
  },
  {
   "cell_type": "code",
   "execution_count": null,
   "metadata": {},
   "outputs": [],
   "source": [
    "csv_files = sorted(csv_dict[uid])\n",
    "for file in csv_files:\n",
    "    print(file)"
   ]
  },
  {
   "cell_type": "code",
   "execution_count": null,
   "metadata": {},
   "outputs": [],
   "source": [
    "qct_files = sorted(qct_dict[uid])\n",
    "for file in qct_files:\n",
    "    print(file)"
   ]
  },
  {
   "cell_type": "code",
   "execution_count": null,
   "metadata": {},
   "outputs": [],
   "source": [
    "csv_path = []\n",
    "for cf in csv_files:\n",
    "    path = generate_file_path(asset_management_directory, cf)\n",
    "    csv_path.append(path)\n",
    "csv_path"
   ]
  },
  {
   "cell_type": "code",
   "execution_count": null,
   "metadata": {},
   "outputs": [],
   "source": [
    "cal_path = []\n",
    "for cf in cal_files:\n",
    "    path = generate_file_path(cal_directory, cf)\n",
    "    cal_path.append(path)\n",
    "cal_path"
   ]
  },
  {
   "cell_type": "code",
   "execution_count": null,
   "metadata": {},
   "outputs": [],
   "source": [
    "qct_path = []\n",
    "for qf in qct_files:\n",
    "    path = generate_file_path(qct_directory, qf, ext=['.log','.txt','.zip'])\n",
    "    qct_path.append(path)\n",
    "qct_path"
   ]
  },
  {
   "cell_type": "markdown",
   "metadata": {},
   "source": [
    "========================================================================================================================\n",
    "### Now develop code to load the calibration coeffs from the capture files\n",
    "The **PRESFCalibration** object below is an object designed to load, parse, and write the respective PRESF calibration csvs. The calibration coefficients are stored in the object as attributes."
   ]
  },
  {
   "cell_type": "code",
   "execution_count": null,
   "metadata": {},
   "outputs": [],
   "source": [
    "class PRESFCalibration():\n",
    "    # Class that stores calibration values for CTDs.\n",
    "\n",
    "    def __init__(self, uid):\n",
    "        self.serial = ''\n",
    "        self.uid = uid\n",
    "        self.coefficients = {\n",
    "            'CC_offset_correction_factor':'0',\n",
    "            'CC_slope_correction_factor':'1',\n",
    "        }\n",
    "        self.date = {}\n",
    "        self.notes = {}\n",
    "\n",
    "        # Name mapping for the MO-type CTDs (when reading from pdfs)\n",
    "        self.coefficient_name_map = {\n",
    "            'U0':'CC_u0',\n",
    "            'Y1':'CC_y1',\n",
    "            'Y2':'CC_y2',\n",
    "            'Y3':'CC_y3',\n",
    "            'C1':'CC_c1',\n",
    "            'C2':'CC_c2',\n",
    "            'C3':'CC_c3',\n",
    "            'D1':'CC_d1',\n",
    "            'D2':'CC_d2',\n",
    "            'T1':'CC_t1',\n",
    "            'T2':'CC_t2',\n",
    "            'T3':'CC_t3',\n",
    "            'T4':'CC_t4',\n",
    "            'M':'CC_m',\n",
    "            'B':'CC_b',\n",
    "            'OFFSET':'CC_pressure_offset_calibration_coefficient'\n",
    "        }\n",
    "\n",
    "    @property\n",
    "    def uid(self):\n",
    "        return self._uid\n",
    "\n",
    "    @uid.setter\n",
    "    def uid(self, d):\n",
    "        r = re.compile('.{5}-.{6}-.{5}')\n",
    "        if r.match(d) is not None:\n",
    "            self.serial = '26-' + d.split('-')[2].lstrip('0')\n",
    "            self._uid = d\n",
    "        else:\n",
    "            raise Exception(f\"The instrument uid {d} is not a valid uid. Please check.\")\n",
    "            \n",
    "\n",
    "    def parse_qct(self, filepath):\n",
    "        \"\"\"\n",
    "        Parses the QCT data in ascii-format.\n",
    "        \n",
    "        Args:\n",
    "            filepath - the full directory to either the parent \n",
    "                directory or the full path with filename of the\n",
    "                QCT file to parse\n",
    "        Returns:\n",
    "            self.coefficients - a dictionary which contains the\n",
    "                calibration coefficients names as key with associated\n",
    "                values as the key-entries\n",
    "        \"\"\"\n",
    "        \n",
    "        data = self.open_qct(filepath)\n",
    "        Calflag = False\n",
    "        for line in data.splitlines():\n",
    "    \n",
    "            line = line.replace('*','').strip()\n",
    "    \n",
    "            if 'Pressure coefficients' in line:\n",
    "                _, cal_date = line.split(':')\n",
    "                cal_date = pd.to_datetime(cal_date.strip()).strftime('%Y%m%d')\n",
    "                self.date = cal_date\n",
    "                # Turn on the flag\n",
    "                Calflag = True\n",
    "                # And move on to the next line\n",
    "                continue\n",
    "            elif 'Temperature coefficients' in line:\n",
    "                # Turn the flag off\n",
    "                Calflag = False\n",
    "            else:\n",
    "                pass\n",
    "        \n",
    "            if Calflag:\n",
    "                key,_,value = line.split()\n",
    "                name = self.coefficient_name_map.get(key)\n",
    "                self.coefficients.update({name:value})\n",
    "            \n",
    "            \n",
    "    def open_qct(self, filepath):\n",
    "        \"\"\"\n",
    "        Function which opens and reads in the QCT data into a \n",
    "        format which is parseable.\n",
    "        \n",
    "        Args:\n",
    "            filepath - the full directory to either the parent \n",
    "                directory or the full path with filename of the\n",
    "                QCT file to parse\n",
    "        Returns:\n",
    "            data - the data in ascii-format from the QCT file\n",
    "        \"\"\"\n",
    "        \n",
    "        if filepath.endswith('.zip'):\n",
    "            with ZipFile(filepath) as zfile:\n",
    "                for name in zfile.namelist():\n",
    "                    if fnmatch.fnmatch(name,'*.hex'):\n",
    "                        fname = name\n",
    "                data = zfile.read(fname).decode('ascii')\n",
    "\n",
    "        elif os.path.isdir(filepath):\n",
    "            for file in os.listdir(filepath):\n",
    "                if fnmatch.fnmatch(name,'*.hex'):\n",
    "                    fname = file\n",
    "            with open(fname) as file:\n",
    "                data = file.read().decode('ascii')\n",
    "                \n",
    "        else:\n",
    "            with open(filepath) as file:\n",
    "                data = file.read().decode('ascii')\n",
    "        \n",
    "        return data\n",
    "\n",
    "\n",
    "    def write_csv(self, outpath):\n",
    "        \"\"\"\n",
    "        This function writes the correctly named csv file for the ctd to the\n",
    "        specified directory.\n",
    "\n",
    "        Args:\n",
    "            outpath - directory path of where to write the csv file\n",
    "        Raises:\n",
    "            ValueError - raised if the CTD object's coefficient dictionary\n",
    "                has not been populated\n",
    "        Returns:\n",
    "            self.to_csv - a csv of the calibration coefficients which is\n",
    "                written to the specified directory from the outpath.\n",
    "        \"\"\"\n",
    "\n",
    "        # Run a check that the coefficients have actually been loaded\n",
    "        if len(self.coefficients) == 0:\n",
    "            raise ValueError('No calibration coefficients have been loaded.')\n",
    "\n",
    "        # Create a dataframe to write to the csv\n",
    "        data = {\n",
    "            'serial': [self.serial]*len(self.coefficients),\n",
    "            'name': list(self.coefficients.keys()),\n",
    "            'value': list(self.coefficients.values())\n",
    "        }\n",
    "        df = pd.DataFrame().from_dict(data)\n",
    "\n",
    "        # Define a function to reformat the notes into an uniform system\n",
    "        def reformat_notes(x):\n",
    "            # First, get rid of \n",
    "            try:\n",
    "                np.isnan(x)\n",
    "                x = ''\n",
    "            except:\n",
    "                x = str(x).replace('[','').replace(']','')\n",
    "            return x\n",
    "        \n",
    "        # Now merge the coefficients dataframe with the notes\n",
    "        if len(self.notes) > 0:\n",
    "            notes = pd.DataFrame().from_dict({\n",
    "                'name':list(self.notes.keys()),\n",
    "                'notes':list(self.notes.values())\n",
    "            })\n",
    "            df = df.merge(notes, how='outer', left_on='name', right_on='name')\n",
    "        else:\n",
    "            df['notes'] = ''\n",
    "        \n",
    "        # Sort the data by the coefficient name\n",
    "        df = df.sort_values(by='name')\n",
    "\n",
    "        # Generate the csv name\n",
    "        cal_date = self.date\n",
    "        csv_name = self.uid + '__' + cal_date + '.csv'\n",
    "\n",
    "        # Write the dataframe to a csv file\n",
    "        # check = input(f\"Write {csv_name} to {outpath}? [y/n]: \")\n",
    "        check = 'y'\n",
    "        if check.lower().strip() == 'y':\n",
    "            df.to_csv(outpath+'/'+csv_name, index=False)"
   ]
  },
  {
   "cell_type": "markdown",
   "metadata": {},
   "source": [
    "**Initialize the PRESFCalibration object using the instrument uid.**"
   ]
  },
  {
   "cell_type": "code",
   "execution_count": null,
   "metadata": {},
   "outputs": [],
   "source": [
    "presf = PRESFCalibration(uid)"
   ]
  },
  {
   "cell_type": "markdown",
   "metadata": {},
   "source": [
    "**Check that the serial number has been correctly parsed.**"
   ]
  },
  {
   "cell_type": "code",
   "execution_count": null,
   "metadata": {},
   "outputs": [],
   "source": [
    "presf.serial"
   ]
  },
  {
   "cell_type": "markdown",
   "metadata": {},
   "source": [
    "**Load the PRESF calibration coefficients based on the QCT file.**"
   ]
  },
  {
   "cell_type": "code",
   "execution_count": null,
   "metadata": {},
   "outputs": [],
   "source": [
    "presf.parse_qct(qct_path[2])"
   ]
  },
  {
   "cell_type": "markdown",
   "metadata": {},
   "source": [
    "**Check that the calibration coefficients loaded successfully.**"
   ]
  },
  {
   "cell_type": "code",
   "execution_count": null,
   "metadata": {},
   "outputs": [],
   "source": [
    "presf.coefficients"
   ]
  },
  {
   "cell_type": "code",
   "execution_count": null,
   "metadata": {},
   "outputs": [],
   "source": [
    "qct_dict[uid]"
   ]
  },
  {
   "cell_type": "markdown",
   "metadata": {},
   "source": [
    "**Now, if you want to add any notes to the calibration csv, they can be added using a dictionary to the notes attribute, based on the calibration coefficient name by writing.**"
   ]
  },
  {
   "cell_type": "code",
   "execution_count": null,
   "metadata": {},
   "outputs": [],
   "source": [
    "presf.notes = {\n",
    "    'CC_b': 'Source file is QCT document number 3305-00105-00043.',\n",
    "    'CC_m': 'I think that this is a constant value.'\n",
    "}"
   ]
  },
  {
   "cell_type": "markdown",
   "metadata": {},
   "source": [
    "**For right now, write the file to a temporary local directory.**"
   ]
  },
  {
   "cell_type": "code",
   "execution_count": null,
   "metadata": {},
   "outputs": [],
   "source": [
    "temp_directory = '/'.join((os.getcwd(),'temp'))\n",
    "temp_directory\n",
    "shutil.rmtree(temp_directory)"
   ]
  },
  {
   "cell_type": "code",
   "execution_count": null,
   "metadata": {},
   "outputs": [],
   "source": [
    "temp_path = '/'.join((temp_directory,'qct'))\n",
    "ensure_dir(temp_path)"
   ]
  },
  {
   "cell_type": "markdown",
   "metadata": {},
   "source": [
    "**Write the PRESF calibration object using the standardized naming format to the temporary directory in a format that can be ingested by UFrame.**"
   ]
  },
  {
   "cell_type": "code",
   "execution_count": null,
   "metadata": {},
   "outputs": [],
   "source": [
    "presf.write_csv(temp_path)"
   ]
  },
  {
   "cell_type": "markdown",
   "metadata": {},
   "source": [
    "**Check that it wrote.**"
   ]
  },
  {
   "cell_type": "code",
   "execution_count": null,
   "metadata": {},
   "outputs": [],
   "source": [
    "os.listdir(temp_path)"
   ]
  },
  {
   "cell_type": "markdown",
   "metadata": {},
   "source": [
    "========================================================================================================================\n",
    "## Metadata Comparison\n",
    "Now the goal is to compare the calibration csvs contained in asset management against the calibration coefficients stored in the QCT files."
   ]
  },
  {
   "cell_type": "markdown",
   "metadata": {},
   "source": [
    "**First, need to copy the calibration csvs from asset management to the local temp directory.**"
   ]
  },
  {
   "cell_type": "code",
   "execution_count": null,
   "metadata": {},
   "outputs": [],
   "source": [
    "shutil.rmtree('/'.join((os.getcwd(),'temp')))"
   ]
  },
  {
   "cell_type": "code",
   "execution_count": null,
   "metadata": {},
   "outputs": [],
   "source": [
    "for file in csv_path:\n",
    "    savedir = '/'.join((os.getcwd(),'temp','csv'))\n",
    "    ensure_dir(savedir)\n",
    "    shutil.copy(file, savedir)"
   ]
  },
  {
   "cell_type": "code",
   "execution_count": null,
   "metadata": {},
   "outputs": [],
   "source": [
    "os.listdir(savedir)"
   ]
  },
  {
   "cell_type": "markdown",
   "metadata": {},
   "source": [
    "**Next, write all the QCT files to the temp directory in the appropriate csv format. This will print out any QCT files which don't parse.**"
   ]
  },
  {
   "cell_type": "code",
   "execution_count": null,
   "metadata": {},
   "outputs": [],
   "source": [
    "ensure_dir(temp_path)\n",
    "for qct in qct_path:\n",
    "    try:\n",
    "        presf = PRESFCalibration(uid=uid)\n",
    "        presf.parse_qct(qct)\n",
    "        presf.write_csv(temp_path)\n",
    "    except:\n",
    "        print(qct)"
   ]
  },
  {
   "cell_type": "code",
   "execution_count": null,
   "metadata": {},
   "outputs": [],
   "source": [
    "os.listdir(temp_path)"
   ]
  },
  {
   "cell_type": "markdown",
   "metadata": {},
   "source": [
    "========================================================================================================================\n",
    "### Compare results\n",
    "Now, with QCT files parsed into csvs which follow the UFrame format, I can load both the QCT and the calibration csvs into pandas dataframes, which will allow element by element comparison in relatively few lines of code."
   ]
  },
  {
   "cell_type": "code",
   "execution_count": null,
   "metadata": {},
   "outputs": [],
   "source": [
    "def get_file_date(x):\n",
    "    x = str(x)\n",
    "    ind1 = x.index('__')\n",
    "    ind2 = x.index('.')\n",
    "    return x[ind1+2:ind2]"
   ]
  },
  {
   "cell_type": "markdown",
   "metadata": {},
   "source": [
    "**Load the calibration csvs:**"
   ]
  },
  {
   "cell_type": "code",
   "execution_count": null,
   "metadata": {},
   "outputs": [],
   "source": [
    "# Now we want to compare dataframe\n",
    "csv_files = pd.DataFrame(sorted(csv_dict[uid]),columns=['csv'])\n",
    "csv_files['cal date'] = csv_files['csv'].apply(lambda x: get_file_date(x))\n",
    "csv_files.set_index('cal date',inplace=True)\n",
    "csv_files"
   ]
  },
  {
   "cell_type": "code",
   "execution_count": null,
   "metadata": {},
   "outputs": [],
   "source": [
    "# Now we want to compare dataframe\n",
    "qct_files = pd.DataFrame(sorted(os.listdir('temp/qct')),columns=['qct'])\n",
    "qct_files['cal date'] = qct_files['qct'].apply(lambda x: get_file_date(x))\n",
    "qct_files.set_index('cal date',inplace=True)\n",
    "qct_files"
   ]
  },
  {
   "cell_type": "code",
   "execution_count": null,
   "metadata": {},
   "outputs": [],
   "source": [
    "df_files = csv_files.join(qct_files,how='outer').fillna(value='-999')\n",
    "df_files"
   ]
  },
  {
   "cell_type": "markdown",
   "metadata": {},
   "source": [
    "**The above dataframe shows the names of the csv files both pulled from asset management (csv) and from the qct. When they don't match based on the calibration date (cal date), that suggests that the date in the csv filename is likely incorrect.**"
   ]
  },
  {
   "cell_type": "markdown",
   "metadata": {},
   "source": [
    "**If the filename is wrong, the calibration coefficient checker will not manage to compare the results. Consequently, we'll make a local copy of the wrong file to a new file with the correct name, and then run the calibration coefficient checker. Do this for all the incorrectly named files.**"
   ]
  },
  {
   "cell_type": "code",
   "execution_count": null,
   "metadata": {},
   "outputs": [],
   "source": [
    "a = 'temp/csv/' + 'CGINS-PRESFC-01401__20171217.csv'\n",
    "b = 'temp/csv/' + 'CGINS-PRESFC-01401__20171212.csv'\n",
    "shutil.copy(a,b)"
   ]
  },
  {
   "cell_type": "code",
   "execution_count": null,
   "metadata": {},
   "outputs": [],
   "source": [
    "!rm 'temp/csv/CGINS-PRESFC-01401__20171217.csv'"
   ]
  },
  {
   "cell_type": "code",
   "execution_count": null,
   "metadata": {},
   "outputs": [],
   "source": [
    "csv_files = pd.DataFrame(sorted(os.listdir('temp/csv')),columns=['csv'])\n",
    "csv_files['cal date'] = csv_files['csv'].apply(lambda x: get_file_date(x))\n",
    "csv_files.set_index('cal date',inplace=True)\n",
    "csv_files"
   ]
  },
  {
   "cell_type": "markdown",
   "metadata": {},
   "source": [
    "**Define a function to check the calibration coefficients between the asset management csv and the csv generated from the QCT file. This function checks based on the relative difference, which is set to 0.001% threshold.**"
   ]
  },
  {
   "cell_type": "code",
   "execution_count": null,
   "metadata": {},
   "outputs": [],
   "source": [
    "def check_cal_coeffs(coeffs_dict):\n",
    "    \n",
    "    # Part 1: coeff by coeff comparison between each source of coefficients\n",
    "    keys = list(coeffs_dict.keys())\n",
    "    comparison = {}\n",
    "    for i in range(len(keys)):\n",
    "        names = (keys[i], keys[i - (len(keys)-1)])\n",
    "        check = len(coeffs_dict.get(keys[i])['value']) == len(coeffs_dict.get(keys[i - (len(keys)-1)])['value'])\n",
    "        if check:\n",
    "            compare = np.isclose(coeffs_dict.get(keys[i])['value'], coeffs_dict.get(keys[i - (len(keys)-1)])['value'])\n",
    "            comparison.update({names:compare})\n",
    "        else:\n",
    "            pass\n",
    "        \n",
    "    # Part 2: now do a logical_and comparison between the results from part 1\n",
    "    keys = list(comparison.keys())\n",
    "    i = 0\n",
    "    mask = comparison.get(keys[i])\n",
    "    while i < len(keys)-1:\n",
    "        i = i + 1\n",
    "        mask = np.logical_and(mask, comparison.get(keys[i]))\n",
    "        print(i)\n",
    "       \n",
    "    return mask "
   ]
  },
  {
   "cell_type": "code",
   "execution_count": null,
   "metadata": {},
   "outputs": [],
   "source": [
    "result = {}\n",
    "for cal_date in df_files.index:\n",
    "    # Part 1, load all of the csv files\n",
    "    coeffs_dict = {}\n",
    "    for source,fname in df_files.loc[cal_date].items():\n",
    "        if fname != '-999':\n",
    "            load_directory = '/'.join((os.getcwd(),'temp',source,fname))\n",
    "            df_coeffs = pd.read_csv(load_directory)\n",
    "            for i in list(set(df_coeffs['serial'])):\n",
    "                print(source + '-' + fname + ': ' + str(i))\n",
    "            df_coeffs.set_index(keys='name',inplace=True)\n",
    "            df_coeffs.sort_index(inplace=True)\n",
    "            coeffs_dict.update({source:df_coeffs})\n",
    "        else:\n",
    "            pass\n",
    "    \n",
    "    # Part 2, now check the calibration coefficients\n",
    "    mask = check_cal_coeffs(coeffs_dict)\n",
    "    \n",
    "    # Part 3: get the calibration coefficients are wrong\n",
    "    # and show them\n",
    "    fname = df_files.loc[cal_date]['csv']\n",
    "    if fname == '-999':\n",
    "        incorrect = 'No csv file.'\n",
    "    else:\n",
    "        incorrect = coeffs_dict['csv'][mask == False]\n",
    "    result.update({fname:incorrect})"
   ]
  },
  {
   "cell_type": "code",
   "execution_count": null,
   "metadata": {},
   "outputs": [],
   "source": [
    "result"
   ]
  },
  {
   "cell_type": "code",
   "execution_count": null,
   "metadata": {},
   "outputs": [],
   "source": []
  }
 ],
 "metadata": {
  "kernelspec": {
   "display_name": "Python 3",
   "language": "python",
   "name": "python3"
  },
  "language_info": {
   "codemirror_mode": {
    "name": "ipython",
    "version": 3
   },
   "file_extension": ".py",
   "mimetype": "text/x-python",
   "name": "python",
   "nbconvert_exporter": "python",
   "pygments_lexer": "ipython3",
   "version": "3.7.3"
  }
 },
 "nbformat": 4,
 "nbformat_minor": 2
}
